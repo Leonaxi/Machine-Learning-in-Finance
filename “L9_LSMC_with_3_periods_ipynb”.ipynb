{
  "nbformat": 4,
  "nbformat_minor": 0,
  "metadata": {
    "colab": {
      "provenance": [],
      "collapsed_sections": [],
      "include_colab_link": true
    },
    "kernelspec": {
      "name": "python3",
      "display_name": "Python 3"
    }
  },
  "cells": [
    {
      "cell_type": "markdown",
      "metadata": {
        "id": "view-in-github",
        "colab_type": "text"
      },
      "source": [
        "<a href=\"https://colab.research.google.com/github/Leonaxi/Machine-Learning-in-Finance/blob/main/%E2%80%9CL9_LSMC_with_3_periods_ipynb%E2%80%9D.ipynb\" target=\"_parent\"><img src=\"https://colab.research.google.com/assets/colab-badge.svg\" alt=\"Open In Colab\"/></a>"
      ]
    },
    {
      "cell_type": "code",
      "metadata": {
        "id": "M3gFOJ7a3uIf",
        "colab": {
          "base_uri": "https://localhost:8080/"
        },
        "outputId": "c6a83317-d689-4b11-dac9-fd7103014774"
      },
      "source": [
        "import numpy as np\n",
        "\n",
        "discount = np.exp(-0.06)\n",
        "\n",
        "# Regression at time 2\n",
        "y = discount * np.array([0, 0.07, 0.18, 0.20, 0.09]) # payoff on t=3\n",
        "x = np.array([1.08, 1.07, .97, .77, .84]) # stock price on t=2  \n",
        "X = np.column_stack([np.ones_like(x), x, x**2])\n",
        "Θ2 = np.linalg.lstsq(X, y)[0]\n",
        "print(Θ2)"
      ],
      "execution_count": 3,
      "outputs": [
        {
          "output_type": "stream",
          "name": "stdout",
          "text": [
            "[-1.06998766  2.98341063 -1.81357618]\n"
          ]
        },
        {
          "output_type": "stream",
          "name": "stderr",
          "text": [
            "/usr/local/lib/python3.7/dist-packages/ipykernel_launcher.py:9: FutureWarning: `rcond` parameter will change to the default of machine precision times ``max(M, N)`` where M and N are the input matrix dimensions.\n",
            "To use the future default and silence this warning we advise to pass `rcond=None`, to keep using the old, explicitly pass `rcond=-1`.\n",
            "  if __name__ == '__main__':\n"
          ]
        }
      ]
    },
    {
      "cell_type": "code",
      "source": [
        "np.linalg.lstsq(X, y)"
      ],
      "metadata": {
        "colab": {
          "base_uri": "https://localhost:8080/"
        },
        "id": "3bJy2Oqpmro1",
        "outputId": "26d7e826-fe9e-488d-af99-a7fd57d6eadd"
      },
      "execution_count": 2,
      "outputs": [
        {
          "output_type": "stream",
          "name": "stderr",
          "text": [
            "/usr/local/lib/python3.7/dist-packages/ipykernel_launcher.py:1: FutureWarning: `rcond` parameter will change to the default of machine precision times ``max(M, N)`` where M and N are the input matrix dimensions.\n",
            "To use the future default and silence this warning we advise to pass `rcond=None`, to keep using the old, explicitly pass `rcond=-1`.\n",
            "  \"\"\"Entry point for launching an IPython kernel.\n"
          ]
        },
        {
          "output_type": "execute_result",
          "data": {
            "text/plain": [
              "(array([-1.06998766,  2.98341063, -1.81357618]),\n",
              " array([0.01091272]),\n",
              " 3,\n",
              " array([3.71663925, 0.3784075 , 0.00894256]))"
            ]
          },
          "metadata": {},
          "execution_count": 2
        }
      ]
    },
    {
      "cell_type": "code",
      "metadata": {
        "id": "KK-DAzvdZnMn",
        "colab": {
          "base_uri": "https://localhost:8080/"
        },
        "outputId": "67017138-0953-4fe3-96c5-1fe904aa0af9"
      },
      "source": [
        "# Value of not exercising\n",
        "def P2(S2):\n",
        "  X = np.column_stack([np.ones_like(x), x, x**2])\n",
        "  return X @ Θ2\n",
        "\n",
        "S2 = np.array([1.08, 1.07, .97, .77, .84]) \n",
        "P2(S2)"
      ],
      "execution_count": 4,
      "outputs": [
        {
          "output_type": "execute_result",
          "data": {
            "text/plain": [
              "array([0.03674056, 0.04589834, 0.11752682, 0.15196921, 0.15641792])"
            ]
          },
          "metadata": {},
          "execution_count": 4
        }
      ]
    },
    {
      "cell_type": "code",
      "source": [
        "# Value of exercising > value of not exercising, then exercise\n",
        "val_if_dont_exercise = P2(S2)\n",
        "val_if_exercise = np.maximum(1.1 - S2, 0)\n",
        "val_if_exercise > val_if_dont_exercise"
      ],
      "metadata": {
        "colab": {
          "base_uri": "https://localhost:8080/"
        },
        "id": "uaCPzMbLxqoX",
        "outputId": "0fdaa539-ac11-44b1-e142-3d059648937c"
      },
      "execution_count": 5,
      "outputs": [
        {
          "output_type": "execute_result",
          "data": {
            "text/plain": [
              "array([False, False,  True,  True,  True])"
            ]
          },
          "metadata": {},
          "execution_count": 5
        }
      ]
    },
    {
      "cell_type": "code",
      "source": [
        " "
      ],
      "metadata": {
        "id": "e160c6nZRUx6"
      },
      "execution_count": null,
      "outputs": []
    },
    {
      "cell_type": "code",
      "metadata": {
        "id": "dlbFsBlG8P0J",
        "colab": {
          "base_uri": "https://localhost:8080/"
        },
        "outputId": "845604af-6447-45b4-eac1-3001cf9a6d91"
      },
      "source": [
        "# For t = 1\n",
        "r = 0.06\n",
        "S1 = np.array([1.09, 0.93, .76, .92, .88])\n",
        "X = np.column_stack([np.ones_like(S1), S1, S1**2])\n",
        "\n",
        "y = np.array([0., 0.13, .33, .26, 0.]) * np.exp(-r)\n",
        "Θ1 = np.linalg.lstsq(X, y)[0]\n",
        "\n",
        "print(Θ1)"
      ],
      "execution_count": 6,
      "outputs": [
        {
          "output_type": "stream",
          "name": "stdout",
          "text": [
            "[ 2.03751234 -3.3354434   1.35645659]\n"
          ]
        },
        {
          "output_type": "stream",
          "name": "stderr",
          "text": [
            "/usr/local/lib/python3.7/dist-packages/ipykernel_launcher.py:7: FutureWarning: `rcond` parameter will change to the default of machine precision times ``max(M, N)`` where M and N are the input matrix dimensions.\n",
            "To use the future default and silence this warning we advise to pass `rcond=None`, to keep using the old, explicitly pass `rcond=-1`.\n",
            "  import sys\n"
          ]
        }
      ]
    },
    {
      "cell_type": "code",
      "source": [
        "def P1(S1):\n",
        "   X = np.column_stack([np.ones_like(S1), S1, S1**2])\n",
        "   return X @  Θ1\n",
        "  # 或者用法二：return Θ1[0] + Θ1[1] * S1+ Θ1[2] * S1**2\n",
        "\n",
        "print(P1(S1))"
      ],
      "metadata": {
        "colab": {
          "base_uri": "https://localhost:8080/"
        },
        "id": "6-nEYBrs_jPr",
        "outputId": "305eab2f-22f2-4dc5-a569-eeccabd21f94"
      },
      "execution_count": 8,
      "outputs": [
        {
          "output_type": "stream",
          "name": "stdout",
          "text": [
            "[0.01348511 0.10874928 0.28606468 0.11700927 0.15276213]\n"
          ]
        }
      ]
    },
    {
      "cell_type": "code",
      "source": [
        "# compare which value (exercise/not exercise) of put option price at t1 is higher\n",
        "val_if_dont_exercise = P1(S1)\n",
        "val_if_exercise = np.maximum(1.1 - S1, 0)\n",
        "val_if_exercise > val_if_dont_exercise"
      ],
      "metadata": {
        "colab": {
          "base_uri": "https://localhost:8080/"
        },
        "id": "53saiLUMSWDx",
        "outputId": "24d4ff38-7587-46c7-a66c-da997b2d537d"
      },
      "execution_count": 9,
      "outputs": [
        {
          "output_type": "execute_result",
          "data": {
            "text/plain": [
              "array([False,  True,  True,  True,  True])"
            ]
          },
          "metadata": {},
          "execution_count": 9
        }
      ]
    },
    {
      "cell_type": "code",
      "metadata": {
        "id": "sPWUJtalIsQe",
        "colab": {
          "base_uri": "https://localhost:8080/"
        },
        "outputId": "5a175733-6f58-47c2-a305-83faafe17725"
      },
      "source": [
        "d = np.exp(-r)\n",
        "DFC = np.array([0, 0, 0.07 * d, .17 * d**3, 0., .34 * d, 0.18 * d, 0.22 * d])\n",
        "DFC"
      ],
      "execution_count": 10,
      "outputs": [
        {
          "output_type": "execute_result",
          "data": {
            "text/plain": [
              "array([0.        , 0.        , 0.06592352, 0.14199594, 0.        ,\n",
              "       0.32019994, 0.16951762, 0.2071882 ])"
            ]
          },
          "metadata": {},
          "execution_count": 10
        }
      ]
    },
    {
      "cell_type": "code",
      "metadata": {
        "id": "lF4ebKL2Isjh",
        "colab": {
          "base_uri": "https://localhost:8080/"
        },
        "outputId": "bf9b19d4-8f54-424a-9a89-b85fa802ad50"
      },
      "source": [
        "P0 = np.mean(DFC)\n",
        "print(P0)\n"
      ],
      "execution_count": 11,
      "outputs": [
        {
          "output_type": "stream",
          "name": "stdout",
          "text": [
            "0.11310315101789473\n"
          ]
        }
      ]
    },
    {
      "cell_type": "code",
      "metadata": {
        "id": "rb64jHmIw0aJ"
      },
      "source": [],
      "execution_count": null,
      "outputs": []
    }
  ]
}