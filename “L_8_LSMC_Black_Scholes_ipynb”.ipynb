{
  "nbformat": 4,
  "nbformat_minor": 0,
  "metadata": {
    "colab": {
      "provenance": [],
      "collapsed_sections": [],
      "include_colab_link": true
    },
    "kernelspec": {
      "name": "python3",
      "display_name": "Python 3"
    }
  },
  "cells": [
    {
      "cell_type": "markdown",
      "metadata": {
        "id": "view-in-github",
        "colab_type": "text"
      },
      "source": [
        "<a href=\"https://colab.research.google.com/github/Leonaxi/Machine-Learning-in-Finance/blob/main/%E2%80%9CL_8_LSMC_Black_Scholes_ipynb%E2%80%9D.ipynb\" target=\"_parent\"><img src=\"https://colab.research.google.com/assets/colab-badge.svg\" alt=\"Open In Colab\"/></a>"
      ]
    },
    {
      "cell_type": "code",
      "metadata": {
        "id": "ypSrQvxzipH4"
      },
      "source": [
        "import numpy as np\n",
        "from scipy.stats import norm\n",
        "import matplotlib.pyplot as plt\n",
        "# Data\n",
        "σ = 0.04\n",
        "r = 0.01\n",
        "K = 35\n",
        "\n",
        "# Design choice\n",
        "dt = 0.1\n",
        "# time horizon is 1, we have to apply for this dynamic function for 10 times\n",
        "# computer cannot stimulate continious problems, dt should be close to zero, but in our code, we can only use a number like 0.1; it is a protential bad thing"
      ],
      "execution_count": 2,
      "outputs": []
    },
    {
      "cell_type": "code",
      "metadata": {
        "id": "HxzjPWEjbWb3"
      },
      "source": [
        "# simulation function of black shores model\n",
        "def S_next(S):\n",
        "  dZ = np.random.normal(size=S.size) * np.sqrt(dt)\n",
        "  dS = r * S  * dt + σ  * S  * dZ\n",
        "  S = S + dS # S1= S0 + dS\n",
        "  return S\n"
      ],
      "execution_count": 3,
      "outputs": []
    },
    {
      "cell_type": "code",
      "metadata": {
        "colab": {
          "base_uri": "https://localhost:8080/"
        },
        "id": "oi0yh-SUrFLT",
        "outputId": "45c1c65c-3db5-44cd-d948-2d2e0278388b"
      },
      "source": [
        "# Simulation模拟测试 the evolution of the stock ( and the payoff of the call) for\n",
        "# 200000 different initial stock prices S0: take value between 30 and 40\n",
        "# create variable S0\n",
        "S0 = np.linspace(30, 40, 200000) # create variable S0: size=200000\n",
        "print(S0[:10])"
      ],
      "execution_count": 4,
      "outputs": [
        {
          "output_type": "stream",
          "name": "stdout",
          "text": [
            "[30.      30.00005 30.0001  30.00015 30.0002  30.00025 30.0003  30.00035\n",
            " 30.0004  30.00045]\n"
          ]
        }
      ]
    },
    {
      "cell_type": "code",
      "metadata": {
        "id": "_kv4pl2icXcm",
        "colab": {
          "base_uri": "https://localhost:8080/"
        },
        "outputId": "23fe41bc-4c0c-4ad0-f68a-57f9b76bdcc1"
      },
      "source": [
        "S = S0  #initialize the s to s0\n",
        "for t in range(10): # for duration in 1 to 10: can change it to larger numbers\n",
        "  S = S_next(S)   # the new value for the stock price S=S1 will be given in the S_next(S) function created above\n",
        "\n",
        "S_next(S)"
      ],
      "execution_count": 7,
      "outputs": [
        {
          "output_type": "execute_result",
          "data": {
            "text/plain": [
              "array([30.90218404, 31.06070152, 30.04714886, ..., 42.53794262,\n",
              "       40.8314713 , 42.78498831])"
            ]
          },
          "metadata": {},
          "execution_count": 7
        }
      ]
    },
    {
      "cell_type": "code",
      "metadata": {
        "colab": {
          "base_uri": "https://localhost:8080/"
        },
        "id": "35K5DUH-iM4d",
        "outputId": "466e7c63-c7b5-45ab-8028-d0efcb9b8109"
      },
      "source": [
        "S1 = S\n",
        "payoff_call = np.maximum(S1 - K, 0)\n",
        "discounted_payoff_call = payoff_call * np.exp(-r)\n",
        "\n",
        "# regression data\n",
        "y = discounted_payoff_call\n",
        "ones = np.ones_like(S0)\n",
        "X = np.column_stack([S0**k for k in range(20)]) # suppose S=S**k\n",
        "# features metrix X = np.column_stack([ones, S0, S0**2, S0**3, S0**4])\n",
        "\n",
        "\n",
        "# Solution of the regression problem\n",
        "# Θ = np.linalg.inv(X.T @ X) @ X.T @ y\n",
        "# Θ = np.linalg.solve(X.T @ X, X.T @ y)\n",
        "Θ = np.linalg.lstsq(X, y)[0]  # fist element is the coefficient, which is theta\n",
        "\n",
        "def C(S0):  # prediction function f(x)=X*theta=Call price\n",
        "  return X @ Θ\n",
        "\n",
        "# problem: limited to much because we have to use it in linear ploynomial methods; we should increase ploynomial order to make it"
      ],
      "execution_count": 9,
      "outputs": [
        {
          "output_type": "stream",
          "name": "stderr",
          "text": [
            "/usr/local/lib/python3.7/dist-packages/ipykernel_launcher.py:15: FutureWarning: `rcond` parameter will change to the default of machine precision times ``max(M, N)`` where M and N are the input matrix dimensions.\n",
            "To use the future default and silence this warning we advise to pass `rcond=None`, to keep using the old, explicitly pass `rcond=-1`.\n",
            "  from ipykernel import kernelapp as app\n"
          ]
        }
      ]
    },
    {
      "cell_type": "code",
      "source": [
        "np.linalg.lstsq(X, y)"
      ],
      "metadata": {
        "colab": {
          "base_uri": "https://localhost:8080/"
        },
        "id": "SmeFFOSEJ2Bm",
        "outputId": "cad77162-d0a5-4fe8-92e5-195c213c914a"
      },
      "execution_count": 11,
      "outputs": [
        {
          "output_type": "stream",
          "name": "stderr",
          "text": [
            "/usr/local/lib/python3.7/dist-packages/ipykernel_launcher.py:1: FutureWarning: `rcond` parameter will change to the default of machine precision times ``max(M, N)`` where M and N are the input matrix dimensions.\n",
            "To use the future default and silence this warning we advise to pass `rcond=None`, to keep using the old, explicitly pass `rcond=-1`.\n",
            "  \"\"\"Entry point for launching an IPython kernel.\n"
          ]
        },
        {
          "output_type": "execute_result",
          "data": {
            "text/plain": [
              "(array([ 2.93726506e-37, -5.65089376e-23,  1.74496619e-25, -2.20658280e-28,\n",
              "         3.83366839e-31,  2.61652025e-30,  5.90008594e-29,  1.27531247e-27,\n",
              "         2.61724689e-26,  5.03051109e-25,  8.87744658e-24,  1.39480048e-22,\n",
              "         1.85210284e-21,  1.87710373e-20,  1.11247376e-19,  2.14908750e-21,\n",
              "        -1.11673169e-21,  5.86139557e-23, -1.18876572e-24,  8.60582456e-27]),\n",
              " array([], dtype=float64),\n",
              " 6,\n",
              " array([3.93819141e+32, 2.65909292e+29, 3.79960303e+26, 7.61925590e+23,\n",
              "        1.63253539e+21, 3.45606535e+18, 7.32856633e+15, 3.68103060e+14,\n",
              "        3.73754892e+12, 2.48544268e+10, 7.49902224e+08, 8.75990230e+05,\n",
              "        6.08782358e+04, 2.26598490e+03, 4.52267793e+02, 7.32684997e+01,\n",
              "        2.34515166e-01, 1.13827703e-01, 4.19432514e-03, 2.70596074e-10]))"
            ]
          },
          "metadata": {},
          "execution_count": 11
        }
      ]
    },
    {
      "cell_type": "code",
      "source": [
        "Θ"
      ],
      "metadata": {
        "colab": {
          "base_uri": "https://localhost:8080/"
        },
        "id": "Q8eXEAE_LNtr",
        "outputId": "8bbc3c11-213d-4f74-c1d0-bc3e5911bf75"
      },
      "execution_count": 12,
      "outputs": [
        {
          "output_type": "execute_result",
          "data": {
            "text/plain": [
              "array([ 2.93726506e-37, -5.65089376e-23,  1.74496619e-25, -2.20658280e-28,\n",
              "        3.83366839e-31,  2.61652025e-30,  5.90008594e-29,  1.27531247e-27,\n",
              "        2.61724689e-26,  5.03051109e-25,  8.87744658e-24,  1.39480048e-22,\n",
              "        1.85210284e-21,  1.87710373e-20,  1.11247376e-19,  2.14908750e-21,\n",
              "       -1.11673169e-21,  5.86139557e-23, -1.18876572e-24,  8.60582456e-27])"
            ]
          },
          "metadata": {},
          "execution_count": 12
        }
      ]
    },
    {
      "cell_type": "code",
      "metadata": {
        "id": "nfcz0pJtkexP"
      },
      "source": [
        "t = 0\n",
        "T = 1\n",
        "def analytical_formula(S):\n",
        "    d1 = 1 / (σ * np.sqrt(T - t)) * (np.log(S / K) + (r + σ**2 / 2) * (T - t))\n",
        "    d2 = d1 - σ * np.sqrt(T - t)\n",
        "    PV = K * np.exp(-r * (T - t))\n",
        "\n",
        "    N = norm.cdf\n",
        "    C = N(d1) * S - N(d2) * PV\n",
        "    return C\n",
        "\n",
        "\n",
        "# S0 = np.linspace(30, 40, 100)\n",
        "C_BS = analytical_formula(S0)"
      ],
      "execution_count": null,
      "outputs": []
    },
    {
      "cell_type": "code",
      "source": [],
      "metadata": {
        "id": "HyJh1IPVLM6k"
      },
      "execution_count": null,
      "outputs": []
    },
    {
      "cell_type": "code",
      "metadata": {
        "colab": {
          "base_uri": "https://localhost:8080/",
          "height": 296
        },
        "id": "LZE0_GfDjvWF",
        "outputId": "ea0afb8b-5b93-462c-a621-f7a94b53e7f7"
      },
      "source": [
        "\n",
        "plt.plot(S0, C(S0), lw=3)\n",
        "plt.plot(S0, C_BS, lw=1)\n",
        "plt.xlabel('S0')\n",
        "plt.ylabel('C0')\n",
        "# blue: approximation; orange: actual"
      ],
      "execution_count": null,
      "outputs": [
        {
          "output_type": "execute_result",
          "data": {
            "text/plain": [
              "Text(0, 0.5, 'C0')"
            ]
          },
          "metadata": {},
          "execution_count": 28
        },
        {
          "output_type": "display_data",
          "data": {
            "image/png": "[encoded data removed]",
            "text/plain": [
              "<Figure size 432x288 with 1 Axes>"
            ]
          },
          "metadata": {
            "needs_background": "light"
          }
        }
      ]
    },
    {
      "cell_type": "code",
      "metadata": {
        "colab": {
          "base_uri": "https://localhost:8080/"
        },
        "id": "BGnwdz2zdfw-",
        "outputId": "88e718bf-0410-455b-8842-2d03833bd6ef"
      },
      "source": [],
      "execution_count": null,
      "outputs": [
        {
          "output_type": "stream",
          "name": "stderr",
          "text": [
            "/usr/local/lib/python3.7/dist-packages/ipykernel_launcher.py:2: FutureWarning: `rcond` parameter will change to the default of machine precision times ``max(M, N)`` where M and N are the input matrix dimensions.\n",
            "To use the future default and silence this warning we advise to pass `rcond=None`, to keep using the old, explicitly pass `rcond=-1`.\n",
            "  \n"
          ]
        }
      ]
    },
    {
      "cell_type": "code",
      "metadata": {
        "colab": {
          "base_uri": "https://localhost:8080/",
          "height": 282
        },
        "id": "Vmy4loQxlnp_",
        "outputId": "40ab9fff-9896-4f2d-b1ad-bb06bc4aefaf"
      },
      "source": [
        "plt.plot(S0, C)"
      ],
      "execution_count": null,
      "outputs": [
        {
          "output_type": "execute_result",
          "data": {
            "text/plain": [
              "[<matplotlib.lines.Line2D at 0x7fb7a96e18d0>]"
            ]
          },
          "metadata": {},
          "execution_count": 11
        },
        {
          "output_type": "display_data",
          "data": {
            "image/png": "[encoded data removed]",
            "text/plain": [
              "<Figure size 432x288 with 1 Axes>"
            ]
          },
          "metadata": {
            "needs_background": "light"
          }
        }
      ]
    },
    {
      "cell_type": "code",
      "metadata": {
        "colab": {
          "base_uri": "https://localhost:8080/"
        },
        "id": "rsYvJF8odgoT",
        "outputId": "7ffbdfab-092a-469f-eced-410222ca09f3"
      },
      "source": [
        "# ... simulation\n",
        "K = 30\n",
        "payoff_call = np.maximum(S - K, 0)  # definition of a call\n",
        "payoff_put = np.maximum(K - S, 0)  # definition of a call\n",
        "C = np.mean(payoff_call * np.exp(-r))  # FTAP\n",
        "P = np.mean(payoff_put * np.exp(-r))  # FTAP\n",
        "print(C)\n",
        "print(P)\n"
      ],
      "execution_count": null,
      "outputs": [
        {
          "output_type": "stream",
          "name": "stdout",
          "text": [
            "5.321003405274581\n",
            "0.024876230833967925\n"
          ]
        }
      ]
    },
    {
      "cell_type": "code",
      "metadata": {
        "colab": {
          "base_uri": "https://localhost:8080/",
          "height": 956
        },
        "id": "dfP-EWl4eUFM",
        "outputId": "6cc2fac1-5b65-4a6c-bc68-a9f6a8b6cae5"
      },
      "source": [
        "plt.hist(payoff_call, 100)"
      ],
      "execution_count": null,
      "outputs": [
        {
          "output_type": "execute_result",
          "data": {
            "text/plain": [
              "(array([4.388e+03, 7.760e+02, 8.690e+02, 9.600e+02, 1.025e+03, 1.058e+03,\n",
              "        1.176e+03, 1.193e+03, 1.232e+03, 1.298e+03, 1.384e+03, 1.389e+03,\n",
              "        1.428e+03, 1.483e+03, 1.534e+03, 1.475e+03, 1.511e+03, 1.537e+03,\n",
              "        1.489e+03, 1.514e+03, 1.569e+03, 1.600e+03, 1.498e+03, 1.521e+03,\n",
              "        1.627e+03, 1.489e+03, 1.520e+03, 1.584e+03, 1.566e+03, 1.569e+03,\n",
              "        1.579e+03, 1.546e+03, 1.535e+03, 1.589e+03, 1.507e+03, 1.524e+03,\n",
              "        1.560e+03, 1.619e+03, 1.577e+03, 1.547e+03, 1.607e+03, 1.526e+03,\n",
              "        1.553e+03, 1.509e+03, 1.542e+03, 1.519e+03, 1.533e+03, 1.509e+03,\n",
              "        1.481e+03, 1.532e+03, 1.490e+03, 1.407e+03, 1.414e+03, 1.355e+03,\n",
              "        1.344e+03, 1.345e+03, 1.260e+03, 1.214e+03, 1.159e+03, 1.120e+03,\n",
              "        1.133e+03, 1.065e+03, 9.410e+02, 8.790e+02, 8.310e+02, 7.800e+02,\n",
              "        7.230e+02, 6.160e+02, 6.260e+02, 5.420e+02, 5.100e+02, 4.390e+02,\n",
              "        4.190e+02, 3.310e+02, 3.020e+02, 2.660e+02, 2.230e+02, 1.900e+02,\n",
              "        1.800e+02, 1.440e+02, 9.300e+01, 8.900e+01, 8.800e+01, 6.500e+01,\n",
              "        5.600e+01, 3.600e+01, 4.200e+01, 2.900e+01, 1.200e+01, 2.400e+01,\n",
              "        1.300e+01, 7.000e+00, 9.000e+00, 9.000e+00, 5.000e+00, 5.000e+00,\n",
              "        7.000e+00, 3.000e+00, 1.000e+00, 3.000e+00]),\n",
              " array([ 0.        ,  0.15735742,  0.31471483,  0.47207225,  0.62942966,\n",
              "         0.78678708,  0.94414449,  1.10150191,  1.25885933,  1.41621674,\n",
              "         1.57357416,  1.73093157,  1.88828899,  2.0456464 ,  2.20300382,\n",
              "         2.36036123,  2.51771865,  2.67507607,  2.83243348,  2.9897909 ,\n",
              "         3.14714831,  3.30450573,  3.46186314,  3.61922056,  3.77657798,\n",
              "         3.93393539,  4.09129281,  4.24865022,  4.40600764,  4.56336505,\n",
              "         4.72072247,  4.87807988,  5.0354373 ,  5.19279472,  5.35015213,\n",
              "         5.50750955,  5.66486696,  5.82222438,  5.97958179,  6.13693921,\n",
              "         6.29429663,  6.45165404,  6.60901146,  6.76636887,  6.92372629,\n",
              "         7.0810837 ,  7.23844112,  7.39579853,  7.55315595,  7.71051337,\n",
              "         7.86787078,  8.0252282 ,  8.18258561,  8.33994303,  8.49730044,\n",
              "         8.65465786,  8.81201528,  8.96937269,  9.12673011,  9.28408752,\n",
              "         9.44144494,  9.59880235,  9.75615977,  9.91351718, 10.0708746 ,\n",
              "        10.22823202, 10.38558943, 10.54294685, 10.70030426, 10.85766168,\n",
              "        11.01501909, 11.17237651, 11.32973393, 11.48709134, 11.64444876,\n",
              "        11.80180617, 11.95916359, 12.116521  , 12.27387842, 12.43123583,\n",
              "        12.58859325, 12.74595067, 12.90330808, 13.0606655 , 13.21802291,\n",
              "        13.37538033, 13.53273774, 13.69009516, 13.84745258, 14.00480999,\n",
              "        14.16216741, 14.31952482, 14.47688224, 14.63423965, 14.79159707,\n",
              "        14.94895448, 15.1063119 , 15.26366932, 15.42102673, 15.57838415,\n",
              "        15.73574156]),\n",
              " <a list of 100 Patch objects>)"
            ]
          },
          "metadata": {},
          "execution_count": 10
        },
        {
          "output_type": "display_data",
          "data": {
            "image/png": "[encoded data removed]",
            "text/plain": [
              "<Figure size 432x288 with 1 Axes>"
            ]
          },
          "metadata": {
            "needs_background": "light"
          }
        }
      ]
    },
    {
      "cell_type": "code",
      "metadata": {
        "colab": {
          "base_uri": "https://localhost:8080/",
          "height": 956
        },
        "id": "ss-9aXCqeasS",
        "outputId": "a3252f70-c9fa-4d3c-eb7d-1dd24a962c48"
      },
      "source": [
        "plt.hist(S, 100)"
      ],
      "execution_count": null,
      "outputs": [
        {
          "output_type": "execute_result",
          "data": {
            "text/plain": [
              "(array([2.000e+00, 4.000e+00, 4.000e+00, 1.000e+01, 1.500e+01, 2.400e+01,\n",
              "        3.600e+01, 4.400e+01, 7.700e+01, 1.160e+02, 1.450e+02, 2.030e+02,\n",
              "        2.580e+02, 3.800e+02, 4.430e+02, 5.480e+02, 5.990e+02, 7.490e+02,\n",
              "        8.840e+02, 9.870e+02, 1.122e+03, 1.236e+03, 1.299e+03, 1.414e+03,\n",
              "        1.501e+03, 1.529e+03, 1.685e+03, 1.697e+03, 1.750e+03, 1.854e+03,\n",
              "        1.818e+03, 1.842e+03, 1.842e+03, 1.843e+03, 1.859e+03, 1.964e+03,\n",
              "        1.846e+03, 1.898e+03, 1.919e+03, 1.818e+03, 1.939e+03, 1.891e+03,\n",
              "        1.918e+03, 1.928e+03, 1.854e+03, 1.933e+03, 1.824e+03, 1.866e+03,\n",
              "        2.002e+03, 1.908e+03, 1.916e+03, 1.874e+03, 1.919e+03, 1.851e+03,\n",
              "        1.855e+03, 1.899e+03, 1.827e+03, 1.832e+03, 1.850e+03, 1.811e+03,\n",
              "        1.717e+03, 1.694e+03, 1.607e+03, 1.650e+03, 1.495e+03, 1.489e+03,\n",
              "        1.366e+03, 1.379e+03, 1.280e+03, 1.137e+03, 1.023e+03, 1.003e+03,\n",
              "        8.540e+02, 7.580e+02, 7.290e+02, 6.350e+02, 5.460e+02, 5.150e+02,\n",
              "        3.900e+02, 3.510e+02, 2.750e+02, 2.320e+02, 2.140e+02, 1.540e+02,\n",
              "        1.100e+02, 1.040e+02, 7.900e+01, 6.300e+01, 4.500e+01, 4.300e+01,\n",
              "        1.600e+01, 2.900e+01, 1.200e+01, 1.100e+01, 1.000e+01, 6.000e+00,\n",
              "        6.000e+00, 7.000e+00, 2.000e+00, 3.000e+00]),\n",
              " array([26.54354393, 26.7354659 , 26.92738788, 27.11930986, 27.31123183,\n",
              "        27.50315381, 27.69507578, 27.88699776, 28.07891974, 28.27084171,\n",
              "        28.46276369, 28.65468567, 28.84660764, 29.03852962, 29.2304516 ,\n",
              "        29.42237357, 29.61429555, 29.80621752, 29.9981395 , 30.19006148,\n",
              "        30.38198345, 30.57390543, 30.76582741, 30.95774938, 31.14967136,\n",
              "        31.34159334, 31.53351531, 31.72543729, 31.91735926, 32.10928124,\n",
              "        32.30120322, 32.49312519, 32.68504717, 32.87696915, 33.06889112,\n",
              "        33.2608131 , 33.45273508, 33.64465705, 33.83657903, 34.028501  ,\n",
              "        34.22042298, 34.41234496, 34.60426693, 34.79618891, 34.98811089,\n",
              "        35.18003286, 35.37195484, 35.56387682, 35.75579879, 35.94772077,\n",
              "        36.13964274, 36.33156472, 36.5234867 , 36.71540867, 36.90733065,\n",
              "        37.09925263, 37.2911746 , 37.48309658, 37.67501856, 37.86694053,\n",
              "        38.05886251, 38.25078448, 38.44270646, 38.63462844, 38.82655041,\n",
              "        39.01847239, 39.21039437, 39.40231634, 39.59423832, 39.7861603 ,\n",
              "        39.97808227, 40.17000425, 40.36192622, 40.5538482 , 40.74577018,\n",
              "        40.93769215, 41.12961413, 41.32153611, 41.51345808, 41.70538006,\n",
              "        41.89730204, 42.08922401, 42.28114599, 42.47306796, 42.66498994,\n",
              "        42.85691192, 43.04883389, 43.24075587, 43.43267785, 43.62459982,\n",
              "        43.8165218 , 44.00844378, 44.20036575, 44.39228773, 44.5842097 ,\n",
              "        44.77613168, 44.96805366, 45.15997563, 45.35189761, 45.54381959,\n",
              "        45.73574156]),\n",
              " <a list of 100 Patch objects>)"
            ]
          },
          "metadata": {},
          "execution_count": 11
        },
        {
          "output_type": "display_data",
          "data": {
            "image/png": "[encoded data removed]",
            "text/plain": [
              "<Figure size 432x288 with 1 Axes>"
            ]
          },
          "metadata": {
            "needs_background": "light"
          }
        }
      ]
    },
    {
      "cell_type": "code",
      "metadata": {
        "id": "OBaSzpsbepSG"
      },
      "source": [],
      "execution_count": null,
      "outputs": []
    }
  ]
}