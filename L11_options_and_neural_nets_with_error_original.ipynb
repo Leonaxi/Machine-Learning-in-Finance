{
  "nbformat": 4,
  "nbformat_minor": 0,
  "metadata": {
    "colab": {
      "provenance": [],
      "collapsed_sections": [],
      "include_colab_link": true
    },
    "kernelspec": {
      "name": "python3",
      "display_name": "Python 3"
    }
  },
  "cells": [
    {
      "cell_type": "markdown",
      "metadata": {
        "id": "view-in-github",
        "colab_type": "text"
      },
      "source": [
        "<a href=\"https://colab.research.google.com/github/Leonaxi/Machine-Learning-in-Finance/blob/main/L11_options_and_neural_nets_with_error_original.ipynb\" target=\"_parent\"><img src=\"https://colab.research.google.com/assets/colab-badge.svg\" alt=\"Open In Colab\"/></a>"
      ]
    },
    {
      "cell_type": "code",
      "metadata": {
        "id": "RuxkSSCEPa00",
        "colab": {
          "base_uri": "https://localhost:8080/"
        },
        "outputId": "7a9132a0-bb8c-4ebc-8d71-3e45193e2491"
      },
      "source": [
        "pip install optax"
      ],
      "execution_count": null,
      "outputs": [
        {
          "output_type": "stream",
          "name": "stdout",
          "text": [
            "Looking in indexes: https://pypi.org/simple, https://us-python.pkg.dev/colab-wheels/public/simple/\n",
            "Requirement already satisfied: optax in /usr/local/lib/python3.7/dist-packages (0.1.3)\n",
            "Requirement already satisfied: typing-extensions>=3.10.0 in /usr/local/lib/python3.7/dist-packages (from optax) (4.1.1)\n",
            "Requirement already satisfied: numpy>=1.18.0 in /usr/local/lib/python3.7/dist-packages (from optax) (1.21.6)\n",
            "Requirement already satisfied: absl-py>=0.7.1 in /usr/local/lib/python3.7/dist-packages (from optax) (1.3.0)\n",
            "Requirement already satisfied: chex>=0.0.4 in /usr/local/lib/python3.7/dist-packages (from optax) (0.1.5)\n",
            "Requirement already satisfied: jax>=0.1.55 in /usr/local/lib/python3.7/dist-packages (from optax) (0.3.23)\n",
            "Requirement already satisfied: jaxlib>=0.1.37 in /usr/local/lib/python3.7/dist-packages (from optax) (0.3.22+cuda11.cudnn805)\n",
            "Requirement already satisfied: dm-tree>=0.1.5 in /usr/local/lib/python3.7/dist-packages (from chex>=0.0.4->optax) (0.1.7)\n",
            "Requirement already satisfied: toolz>=0.9.0 in /usr/local/lib/python3.7/dist-packages (from chex>=0.0.4->optax) (0.12.0)\n",
            "Requirement already satisfied: scipy>=1.5 in /usr/local/lib/python3.7/dist-packages (from jax>=0.1.55->optax) (1.7.3)\n",
            "Requirement already satisfied: etils[epath] in /usr/local/lib/python3.7/dist-packages (from jax>=0.1.55->optax) (0.8.0)\n",
            "Requirement already satisfied: opt-einsum in /usr/local/lib/python3.7/dist-packages (from jax>=0.1.55->optax) (3.3.0)\n",
            "Requirement already satisfied: importlib_resources in /usr/local/lib/python3.7/dist-packages (from etils[epath]->jax>=0.1.55->optax) (5.10.0)\n",
            "Requirement already satisfied: zipp in /usr/local/lib/python3.7/dist-packages (from etils[epath]->jax>=0.1.55->optax) (3.9.0)\n"
          ]
        }
      ]
    },
    {
      "cell_type": "code",
      "source": [
        "\n",
        "import optax\n",
        "import numpy as np\n",
        "import jax.numpy as jnp\n",
        "import jax\n",
        "import matplotlib.pyplot as plt"
      ],
      "metadata": {
        "id": "CwF7tk9p8y7L"
      },
      "execution_count": null,
      "outputs": []
    },
    {
      "cell_type": "code",
      "metadata": {
        "id": "hy7WuZmyPeT8",
        "colab": {
          "base_uri": "https://localhost:8080/",
          "height": 283
        },
        "outputId": "7f2c8731-4625-4514-e23a-14a6b64748d9"
      },
      "source": [
        "S = np.array([-0.8964536 , -0.8937423 , -0.8160014 , -0.8135896 , -0.7777178 ,\n",
        "       -0.7306509 , -0.7196269 , -0.56077266, -0.5225189 , -0.39259458,\n",
        "       -0.37080932, -0.30425978, -0.30012155, -0.26793814, -0.23755741,\n",
        "       -0.20966339, -0.16642046, -0.15392852, -0.14616823, -0.09809828,\n",
        "       -0.01211524,  0.02200961,  0.0394454 ,  0.04127908,  0.14237666,\n",
        "        0.1488111 ,  0.20493412,  0.25775242,  0.2756691 ,  0.32817745,\n",
        "        0.3374791 ,  0.34276915,  0.34953642,  0.41928077,  0.4337349 ,\n",
        "        0.43921685,  0.4798982 ,  0.5894067 ,  0.5936425 ,  0.6099713 ,\n",
        "        0.64054966,  0.6516247 ,  0.7327845 ,  0.8028183 ,  0.803761  ,\n",
        "        0.82667255,  0.8778291 ,  0.879761  ,  0.8880968 ,  0.92238617])\n",
        "\n",
        "payoff = np.array([-8.30690000e-01, -8.41413975e-01, -9.98246000e-01, -9.98990000e-01,\n",
        "       -9.87290919e-01, -9.20819000e-01, -8.99229109e-01, -5.04697680e-01,\n",
        "       -4.15037155e-01, -1.80537000e-01, -1.52362585e-01, -8.43991116e-02,\n",
        "       -8.10096189e-02, -5.76740000e-02, -4.02077623e-02, -2.76460908e-02,\n",
        "       -1.38269800e-02, -1.09413229e-02, -9.36858000e-03, -2.83207800e-03,\n",
        "       -5.33478988e-06,  3.19850000e-05,  1.84123986e-04,  2.11016000e-04,\n",
        "        8.65829000e-03,  9.88599000e-03,  2.58175954e-02,  5.13450000e-02,\n",
        "        6.28057718e-02,  1.05835974e-01,  1.15053318e-01,  1.20522849e-01,\n",
        "        1.27764000e-01,  2.19326511e-01,  2.42352000e-01,  2.51461000e-01,\n",
        "        3.25523138e-01,  5.76370418e-01,  5.87219000e-01,  6.29451275e-01,\n",
        "        7.09268000e-01,  7.37970000e-01,  9.24770000e-01,  9.99828756e-01,\n",
        "        9.99915123e-01,  9.92319000e-01,  8.96705747e-01,  8.90681505e-01,\n",
        "        8.62517000e-01,  7.08453476e-01])\n",
        "\n",
        "plt.plot(S, payoff)\n",
        "\n",
        "\n"
      ],
      "execution_count": null,
      "outputs": [
        {
          "output_type": "execute_result",
          "data": {
            "text/plain": [
              "[<matplotlib.lines.Line2D at 0x7f8869587690>]"
            ]
          },
          "metadata": {},
          "execution_count": 33
        },
        {
          "output_type": "display_data",
          "data": {
            "text/plain": [
              "<Figure size 432x288 with 1 Axes>"
            ],
            "image/png": "[encoded data removed]"
          },
          "metadata": {
            "needs_background": "light"
          }
        }
      ]
    },
    {
      "cell_type": "code",
      "source": [
        "S  = S.reshape(50, 1)"
      ],
      "metadata": {
        "id": "FQTzms6__ub0"
      },
      "execution_count": null,
      "outputs": []
    },
    {
      "cell_type": "code",
      "metadata": {
        "id": "q2FUFT_9PzRd"
      },
      "source": [
        "lr = 1e-3\n",
        "optimizer =optax.adam\n",
        "\n",
        "\n",
        "W1 = np.random.normal(size=[1, 20])\n",
        "b1 = np.random.normal(size=[1, 20])\n",
        "\n",
        "W2 = np.random.normal(size=[20, 1])\n",
        "b2 = np.random.normal(size=[1, 1])\n",
        "\n",
        "Θ = W1, W2, b1, b2\n",
        "opt_state = optimizer(lr).init(Θ)\n",
        "\n",
        "\n",
        "def nnet(Θ, S):\n",
        "  W1, W2, b1, b2 = Θ\n",
        "\n",
        "  # Linear transf.\n",
        "  out = (S @ W1) + b1\n",
        "\n",
        "  # Non-linear transf.\n",
        "  out = jax.nn.relu(out)\n",
        "\n",
        "  # Linear transf.\n",
        "  out = out @ W2 + b2\n",
        "\n",
        "  # squeeze\n",
        "  out = jnp.squeeze(out)\n",
        "  return out\n",
        "\n",
        "def mse(prediction, y):\n",
        "    return ((prediction - y)**2).mean()\n",
        "\n",
        "@jax.jit\n",
        "def update(Θ, opt_state):\n",
        "    def L(Θ):\n",
        "      predictions  = nnet(Θ, S)\n",
        "      return mse(predictions, payoff)\n",
        "\n",
        "    grads = jax.grad(L)(Θ)\n",
        "    updates, opt_state = optimizer(lr).update(grads, opt_state)\n",
        "    Θ = optax.apply_updates(Θ, updates)\n",
        "    return Θ,  opt_state\n",
        "\n"
      ],
      "execution_count": null,
      "outputs": []
    },
    {
      "cell_type": "code",
      "source": [
        "for iteration in range(100000):\n",
        "  Θ, opt_state = update(Θ, opt_state)"
      ],
      "metadata": {
        "id": "TljUoVnB9vrE"
      },
      "execution_count": null,
      "outputs": []
    },
    {
      "cell_type": "code",
      "metadata": {
        "id": "K3fF8-30QFBz",
        "colab": {
          "base_uri": "https://localhost:8080/",
          "height": 283
        },
        "outputId": "16fdc2aa-36f8-4aad-8aa9-0dd7bcdcdbb8"
      },
      "source": [
        "prediction = nnet(Θ, S)\n",
        "\n",
        "plt.plot(S, payoff)\n",
        "plt.plot(S, prediction)\n",
        "\n"
      ],
      "execution_count": null,
      "outputs": [
        {
          "output_type": "execute_result",
          "data": {
            "text/plain": [
              "[<matplotlib.lines.Line2D at 0x7f8874d87650>]"
            ]
          },
          "metadata": {},
          "execution_count": 37
        },
        {
          "output_type": "display_data",
          "data": {
            "text/plain": [
              "<Figure size 432x288 with 1 Axes>"
            ],
            "image/png": "[encoded data removed]"
          },
          "metadata": {
            "needs_background": "light"
          }
        }
      ]
    },
    {
      "cell_type": "code",
      "source": [],
      "metadata": {
        "id": "puTS5dRbJFJp"
      },
      "execution_count": null,
      "outputs": []
    }
  ]
}