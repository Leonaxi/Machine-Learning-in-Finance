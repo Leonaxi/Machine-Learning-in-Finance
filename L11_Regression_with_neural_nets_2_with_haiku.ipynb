{
  "nbformat": 4,
  "nbformat_minor": 0,
  "metadata": {
    "colab": {
      "provenance": [],
      "collapsed_sections": [],
      "include_colab_link": true
    },
    "kernelspec": {
      "name": "python3",
      "display_name": "Python 3"
    },
    "accelerator": "GPU",
    "gpuClass": "premium"
  },
  "cells": [
    {
      "cell_type": "markdown",
      "metadata": {
        "id": "view-in-github",
        "colab_type": "text"
      },
      "source": [
        "<a href=\"https://colab.research.google.com/github/Leonaxi/Machine-Learning-in-Finance/blob/main/L11_Regression_with_neural_nets_2_with_haiku.ipynb\" target=\"_parent\"><img src=\"https://colab.research.google.com/assets/colab-badge.svg\" alt=\"Open In Colab\"/></a>"
      ]
    },
    {
      "cell_type": "code",
      "metadata": {
        "id": "RuxkSSCEPa00",
        "colab": {
          "base_uri": "https://localhost:8080/"
        },
        "outputId": "ab8584de-6995-4cd2-c16c-bba0416cc580"
      },
      "source": [
        "pip install optax dm-haiku"
      ],
      "execution_count": 3,
      "outputs": [
        {
          "output_type": "stream",
          "name": "stdout",
          "text": [
            "Looking in indexes: https://pypi.org/simple, https://us-python.pkg.dev/colab-wheels/public/simple/\n",
            "Collecting optax\n",
            "  Downloading optax-0.1.3-py3-none-any.whl (145 kB)\n",
            "\u001b[K     |████████████████████████████████| 145 kB 5.1 MB/s \n",
            "\u001b[?25hCollecting dm-haiku\n",
            "  Downloading dm_haiku-0.0.8-py3-none-any.whl (350 kB)\n",
            "\u001b[K     |████████████████████████████████| 350 kB 45.8 MB/s \n",
            "\u001b[?25hRequirement already satisfied: jax>=0.1.55 in /usr/local/lib/python3.7/dist-packages (from optax) (0.3.23)\n",
            "Requirement already satisfied: typing-extensions>=3.10.0 in /usr/local/lib/python3.7/dist-packages (from optax) (4.1.1)\n",
            "Requirement already satisfied: numpy>=1.18.0 in /usr/local/lib/python3.7/dist-packages (from optax) (1.21.6)\n",
            "Requirement already satisfied: jaxlib>=0.1.37 in /usr/local/lib/python3.7/dist-packages (from optax) (0.3.22+cuda11.cudnn805)\n",
            "Collecting chex>=0.0.4\n",
            "  Downloading chex-0.1.5-py3-none-any.whl (85 kB)\n",
            "\u001b[K     |████████████████████████████████| 85 kB 4.9 MB/s \n",
            "\u001b[?25hRequirement already satisfied: absl-py>=0.7.1 in /usr/local/lib/python3.7/dist-packages (from optax) (1.3.0)\n",
            "Requirement already satisfied: dm-tree>=0.1.5 in /usr/local/lib/python3.7/dist-packages (from chex>=0.0.4->optax) (0.1.7)\n",
            "Requirement already satisfied: toolz>=0.9.0 in /usr/local/lib/python3.7/dist-packages (from chex>=0.0.4->optax) (0.12.0)\n",
            "Requirement already satisfied: etils[epath] in /usr/local/lib/python3.7/dist-packages (from jax>=0.1.55->optax) (0.9.0)\n",
            "Requirement already satisfied: scipy>=1.5 in /usr/local/lib/python3.7/dist-packages (from jax>=0.1.55->optax) (1.7.3)\n",
            "Requirement already satisfied: opt-einsum in /usr/local/lib/python3.7/dist-packages (from jax>=0.1.55->optax) (3.3.0)\n",
            "Requirement already satisfied: tabulate>=0.8.9 in /usr/local/lib/python3.7/dist-packages (from dm-haiku) (0.8.10)\n",
            "Collecting jmp>=0.0.2\n",
            "  Downloading jmp-0.0.2-py3-none-any.whl (16 kB)\n",
            "Requirement already satisfied: zipp in /usr/local/lib/python3.7/dist-packages (from etils[epath]->jax>=0.1.55->optax) (3.10.0)\n",
            "Requirement already satisfied: importlib_resources in /usr/local/lib/python3.7/dist-packages (from etils[epath]->jax>=0.1.55->optax) (5.10.0)\n",
            "Installing collected packages: jmp, chex, optax, dm-haiku\n",
            "Successfully installed chex-0.1.5 dm-haiku-0.0.8 jmp-0.0.2 optax-0.1.3\n"
          ]
        }
      ]
    },
    {
      "cell_type": "code",
      "source": [
        "import optax\n",
        "import numpy as np\n",
        "import jax.numpy as jnp\n",
        "import jax\n",
        "import matplotlib.pyplot as plt"
      ],
      "metadata": {
        "id": "7TmB566YoE9D"
      },
      "execution_count": 4,
      "outputs": []
    },
    {
      "cell_type": "code",
      "metadata": {
        "id": "hy7WuZmyPeT8",
        "colab": {
          "base_uri": "https://localhost:8080/",
          "height": 283
        },
        "outputId": "cb40843d-0b47-4d77-f0c8-919de262f7ad"
      },
      "source": [
        "S = np.array([-0.8964536 , -0.8937423 , -0.8160014 , -0.8135896 , -0.7777178 ,\n",
        "       -0.7306509 , -0.7196269 , -0.56077266, -0.5225189 , -0.39259458,\n",
        "       -0.37080932, -0.30425978, -0.30012155, -0.26793814, -0.23755741,\n",
        "       -0.20966339, -0.16642046, -0.15392852, -0.14616823, -0.09809828,\n",
        "       -0.01211524,  0.02200961,  0.0394454 ,  0.04127908,  0.14237666,\n",
        "        0.1488111 ,  0.20493412,  0.25775242,  0.2756691 ,  0.32817745,\n",
        "        0.3374791 ,  0.34276915,  0.34953642,  0.41928077,  0.4337349 ,\n",
        "        0.43921685,  0.4798982 ,  0.5894067 ,  0.5936425 ,  0.6099713 ,\n",
        "        0.64054966,  0.6516247 ,  0.7327845 ,  0.8028183 ,  0.803761  ,\n",
        "        0.82667255,  0.8778291 ,  0.879761  ,  0.8880968 ,  0.92238617])\n",
        "\n",
        "payoff = np.array([-8.30690000e-01, -8.41413975e-01, -9.98246000e-01, -9.98990000e-01,\n",
        "       -9.87290919e-01, -9.20819000e-01, -8.99229109e-01, -5.04697680e-01,\n",
        "       -4.15037155e-01, -1.80537000e-01, -1.52362585e-01, -8.43991116e-02,\n",
        "       -8.10096189e-02, -5.76740000e-02, -4.02077623e-02, -2.76460908e-02,\n",
        "       -1.38269800e-02, -1.09413229e-02, -9.36858000e-03, -2.83207800e-03,\n",
        "       -5.33478988e-06,  3.19850000e-05,  1.84123986e-04,  2.11016000e-04,\n",
        "        8.65829000e-03,  9.88599000e-03,  2.58175954e-02,  5.13450000e-02,\n",
        "        6.28057718e-02,  1.05835974e-01,  1.15053318e-01,  1.20522849e-01,\n",
        "        1.27764000e-01,  2.19326511e-01,  2.42352000e-01,  2.51461000e-01,\n",
        "        3.25523138e-01,  5.76370418e-01,  5.87219000e-01,  6.29451275e-01,\n",
        "        7.09268000e-01,  7.37970000e-01,  9.24770000e-01,  9.99828756e-01,\n",
        "        9.99915123e-01,  9.92319000e-01,  8.96705747e-01,  8.90681505e-01,\n",
        "        8.62517000e-01,  7.08453476e-01])\n",
        "\n",
        "plt.plot(S, payoff)\n",
        "\n",
        "\n"
      ],
      "execution_count": 5,
      "outputs": [
        {
          "output_type": "execute_result",
          "data": {
            "text/plain": [
              "[<matplotlib.lines.Line2D at 0x7fd15932af10>]"
            ]
          },
          "metadata": {},
          "execution_count": 5
        },
        {
          "output_type": "display_data",
          "data": {
            "text/plain": [
              "<Figure size 432x288 with 1 Axes>"
            ],
            "image/png": "[encoded data removed]"
          },
          "metadata": {
            "needs_background": "light"
          }
        }
      ]
    },
    {
      "cell_type": "code",
      "metadata": {
        "id": "q2FUFT_9PzRd"
      },
      "source": [
        "import haiku as hk # transfer things will do automatically 不需要一步步打上去了\n",
        "S  = S.reshape(50, 1)\n",
        "\n",
        "lr = 1e-3\n",
        "optimizer =optax.adam\n",
        "\n",
        "def nnet(S):\n",
        "  out = hk.Linear(20)(S)  # linear trans. from 1 dimensional factor to 20 d\n",
        "  out = jax.nn.relu(out) # non-linear transf.\n",
        "\n",
        "  out = hk.Linear(1)(out) # linear trans. again\n",
        "  out = jnp.squeeze(out)\n",
        "  return out\n"
      ],
      "execution_count": 6,
      "outputs": []
    },
    {
      "cell_type": "code",
      "source": [
        "# 因为上述function is not a true python function, it is a abstraction that haiku used\n",
        "# 所以需要 ask haiku to transform it into a valid function：init, nnet = hk.transform(nnet)\n",
        "# output will be 2 function: init(initialize the network); nnet(function created above)\n",
        "init, nnet = hk.without_apply_rng(hk.transform(nnet))\n",
        "# initialized the parameter: 2 steps: random seeds; sample parameters\n",
        "# 1. provide how you initialize your parameters: randomly initialized: provide a seed to initialezed\n",
        "# 2. provide sample of your fetures space 因为 haiku want to know how many features do you have in your initial dataset\n",
        "rng = jax.random.PRNGKey(0)  # not use zeros, may run into trouble\n",
        "Θ  = init(rng, S[0])"
      ],
      "metadata": {
        "id": "_vnnbNPOOkDW",
        "outputId": "be271704-c5e8-4422-d68d-172c644cb2f1",
        "colab": {
          "base_uri": "https://localhost:8080/"
        }
      },
      "execution_count": 7,
      "outputs": [
        {
          "output_type": "stream",
          "name": "stderr",
          "text": [
            "/usr/local/lib/python3.7/dist-packages/haiku/_src/base.py:515: UserWarning: Explicitly requested dtype float64 requested in zeros is not available, and will be truncated to dtype float32. To enable more dtypes, set the jax_enable_x64 configuration option or the JAX_ENABLE_X64 shell environment variable. See https://github.com/google/jax#current-gotchas for more.\n",
            "  param = init(shape, dtype)\n"
          ]
        }
      ]
    },
    {
      "cell_type": "code",
      "source": [
        "# initialized the parameter: 2 steps: random seeds; sample parameters\n",
        "rng = jax.random.PRNGKey(0)\n",
        "Θ  = init(rng, S[0])"
      ],
      "metadata": {
        "id": "a2euxypRPB49"
      },
      "execution_count": 8,
      "outputs": []
    },
    {
      "cell_type": "code",
      "source": [
        "Θ.keys()"
      ],
      "metadata": {
        "id": "m6kvhLBvzsU_",
        "outputId": "74e1e2c9-263d-40d5-9e65-8a9bfa4736dc",
        "colab": {
          "base_uri": "https://localhost:8080/"
        }
      },
      "execution_count": 19,
      "outputs": [
        {
          "output_type": "execute_result",
          "data": {
            "text/plain": [
              "dict_keys(['linear', 'linear_1'])"
            ]
          },
          "metadata": {},
          "execution_count": 19
        }
      ]
    },
    {
      "cell_type": "code",
      "source": [
        "Θ['linear'].keys()"
      ],
      "metadata": {
        "id": "hJGXQTCj0Rb1",
        "outputId": "1be64805-5453-4f35-edf3-233411705eee",
        "colab": {
          "base_uri": "https://localhost:8080/"
        }
      },
      "execution_count": 11,
      "outputs": [
        {
          "output_type": "execute_result",
          "data": {
            "text/plain": [
              "dict_keys(['w', 'b'])"
            ]
          },
          "metadata": {},
          "execution_count": 11
        }
      ]
    },
    {
      "cell_type": "code",
      "source": [
        "Θ['linear_1'].keys()"
      ],
      "metadata": {
        "id": "kFqrr3m31ks7",
        "outputId": "5b5411d8-bcc8-43b3-9963-358819bac9e7",
        "colab": {
          "base_uri": "https://localhost:8080/"
        }
      },
      "execution_count": 20,
      "outputs": [
        {
          "output_type": "execute_result",
          "data": {
            "text/plain": [
              "dict_keys(['w', 'b'])"
            ]
          },
          "metadata": {},
          "execution_count": 20
        }
      ]
    },
    {
      "cell_type": "code",
      "source": [
        "Θ['linear']  # dimension of W1 will be 1*20; b1 will also be 1*20"
      ],
      "metadata": {
        "id": "SKHRRjsV0TYd",
        "outputId": "ff0ae0d3-d1fb-4e36-a89c-866ff7895d36",
        "colab": {
          "base_uri": "https://localhost:8080/"
        }
      },
      "execution_count": 16,
      "outputs": [
        {
          "output_type": "execute_result",
          "data": {
            "text/plain": [
              "{'w': DeviceArray([[ 4.9424145e-01, -2.6073512e-01,  2.9696274e-01,\n",
              "                6.9096667e-01,  1.7020437e+00,  4.6858597e-01,\n",
              "                4.3036845e-01,  8.3296478e-01,  6.5656769e-04,\n",
              "               -6.9311088e-01,  7.8601891e-01, -5.0021487e-01,\n",
              "               -3.2383677e-01, -4.0601933e-01,  6.3294512e-01,\n",
              "               -1.0585506e+00, -2.9123566e-01, -1.6549054e+00,\n",
              "               -1.7563176e+00,  5.5047482e-01]], dtype=float32),\n",
              " 'b': DeviceArray([0., 0., 0., 0., 0., 0., 0., 0., 0., 0., 0., 0., 0., 0., 0.,\n",
              "              0., 0., 0., 0., 0.], dtype=float32)}"
            ]
          },
          "metadata": {},
          "execution_count": 16
        }
      ]
    },
    {
      "cell_type": "code",
      "source": [
        "Θ['linear']['b'].shape"
      ],
      "metadata": {
        "id": "PRT0zV0t0voO",
        "outputId": "632fc472-d7a6-470a-f14d-231d34888fcc",
        "colab": {
          "base_uri": "https://localhost:8080/"
        }
      },
      "execution_count": 18,
      "outputs": [
        {
          "output_type": "execute_result",
          "data": {
            "text/plain": [
              "(20,)"
            ]
          },
          "metadata": {},
          "execution_count": 18
        }
      ]
    },
    {
      "cell_type": "code",
      "source": [
        "nnet(Θ, S)"
      ],
      "metadata": {
        "id": "kqv-MpHX3I1q",
        "outputId": "479e221b-401a-43d0-e4aa-2c42c79aa27f",
        "colab": {
          "base_uri": "https://localhost:8080/"
        }
      },
      "execution_count": 23,
      "outputs": [
        {
          "output_type": "execute_result",
          "data": {
            "text/plain": [
              "DeviceArray([-0.61080724, -0.6089598 , -0.55599034, -0.554347  ,\n",
              "             -0.52990544, -0.49783596, -0.49032462, -0.38208777,\n",
              "             -0.3560232 , -0.26749805, -0.25265446, -0.20731029,\n",
              "             -0.20449066, -0.1825622 , -0.16186199, -0.14285615,\n",
              "             -0.11339215, -0.10488065, -0.09959312, -0.06684019,\n",
              "             -0.00825483,  0.00323216,  0.00579264,  0.00606192,\n",
              "              0.02090832,  0.02185323,  0.03009502,  0.03785149,\n",
              "              0.0404826 ,  0.04819356,  0.04955953,  0.05033638,\n",
              "              0.05133016,  0.06157228,  0.06369489,  0.06449995,\n",
              "              0.07047409,  0.08655564,  0.08717768,  0.08957559,\n",
              "              0.09406609,  0.09569249,  0.10761101,  0.11789554,\n",
              "              0.11803403,  0.12139866,  0.12891111,  0.1291948 ,\n",
              "              0.13041899,  0.13545437], dtype=float32)"
            ]
          },
          "metadata": {},
          "execution_count": 23
        }
      ]
    },
    {
      "cell_type": "code",
      "source": [
        "opt_state = optimizer(lr).init(Θ)\n",
        "\n",
        "def mse(prediction, y):\n",
        "    return ((prediction - y)**2).mean()\n",
        "\n",
        "@jax.jit\n",
        "def update(Θ, opt_state):\n",
        "    def L(Θ):\n",
        "      predictions  = nnet(Θ, S)\n",
        "      return mse(predictions, payoff)\n",
        "\n",
        "    grads = jax.grad(L)(Θ)\n",
        "    updates, opt_state = optimizer(lr).update(grads, opt_state)\n",
        "    Θ = optax.apply_updates(Θ, updates)\n",
        "    return Θ,  opt_state\n",
        "\n"
      ],
      "metadata": {
        "id": "aEGOI6TGOjSH"
      },
      "execution_count": null,
      "outputs": []
    },
    {
      "cell_type": "code",
      "metadata": {
        "id": "gvSbeAHbQVRi"
      },
      "source": [
        "for iteration in range(100000):\n",
        "  Θ, opt_state = update(Θ, opt_state)"
      ],
      "execution_count": null,
      "outputs": []
    },
    {
      "cell_type": "code",
      "source": [
        "prediction = nnet(Θ, S)\n",
        "\n",
        "plt.plot(S, payoff)\n",
        "plt.plot(S, prediction)\n",
        "\n"
      ],
      "metadata": {
        "id": "UwWoce6Rg1Rl",
        "colab": {
          "base_uri": "https://localhost:8080/",
          "height": 283
        },
        "outputId": "80ca8e01-3918-49ed-ea63-e53970ec3d7b"
      },
      "execution_count": null,
      "outputs": [
        {
          "output_type": "execute_result",
          "data": {
            "text/plain": [
              "[<matplotlib.lines.Line2D at 0x7f11303e6050>]"
            ]
          },
          "metadata": {},
          "execution_count": 66
        },
        {
          "output_type": "display_data",
          "data": {
            "text/plain": [
              "<Figure size 432x288 with 1 Axes>"
            ],
            "image/png": "[encoded data removed]"
          },
          "metadata": {
            "needs_background": "light"
          }
        }
      ]
    },
    {
      "cell_type": "code",
      "source": [],
      "metadata": {
        "id": "2thfP6H1TIZl"
      },
      "execution_count": null,
      "outputs": []
    }
  ]
}