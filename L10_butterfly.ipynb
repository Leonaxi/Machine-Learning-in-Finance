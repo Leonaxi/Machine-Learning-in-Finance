{
  "nbformat": 4,
  "nbformat_minor": 0,
  "metadata": {
    "colab": {
      "provenance": [],
      "collapsed_sections": [],
      "include_colab_link": true
    },
    "kernelspec": {
      "name": "python3",
      "display_name": "Python 3"
    }
  },
  "cells": [
    {
      "cell_type": "markdown",
      "metadata": {
        "id": "view-in-github",
        "colab_type": "text"
      },
      "source": [
        "<a href=\"https://colab.research.google.com/github/Leonaxi/Machine-Learning-in-Finance/blob/main/L10_butterfly.ipynb\" target=\"_parent\"><img src=\"https://colab.research.google.com/assets/colab-badge.svg\" alt=\"Open In Colab\"/></a>"
      ]
    },
    {
      "cell_type": "code",
      "metadata": {
        "id": "B90RIDE5kag1",
        "colab": {
          "base_uri": "https://localhost:8080/",
          "height": 35
        },
        "outputId": "57959ea7-9d92-42a3-df8a-355c9f2a5890"
      },
      "source": [
        "import numpy as np\n",
        "import matplotlib.pyplot as plt\n",
        "\n",
        "# strike price\n",
        "a = 1\n",
        "b = 3\n",
        "\n",
        "S = np.array([2, 3, 4]) # stock price\n",
        "payoff = np.array([1., 0., 0.]) # payoff want to replicate\n",
        "\n",
        "# Call options' payoffs\n",
        "call0 = np.maximum(S - a, 0) #S-k\n",
        "call1 = np.maximum(S - (a + b) / 2, 0)\n",
        "call2 = np.maximum(S - b, 0)\n",
        "\n",
        "\n",
        "# Now find the strategy that replicates the desired payoff\n",
        "X = np.column_stack([call0, call1, call2])\n",
        "y = payoff\n",
        "\n",
        "Θ = np.linalg.inv(X.T @ X) @ X.T @ y\n",
        "print(Θ)\n"
      ],
      "execution_count": null,
      "outputs": [
        {
          "output_type": "stream",
          "text": [
            "[ 1. -2.  1.]\n"
          ],
          "name": "stdout"
        }
      ]
    },
    {
      "cell_type": "code",
      "metadata": {
        "id": "QEQbdVLJkjSb"
      },
      "source": [],
      "execution_count": null,
      "outputs": []
    }
  ]
}