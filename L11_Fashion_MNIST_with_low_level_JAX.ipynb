{
  "nbformat": 4,
  "nbformat_minor": 0,
  "metadata": {
    "colab": {
      "provenance": [],
      "collapsed_sections": [],
      "include_colab_link": true
    },
    "kernelspec": {
      "name": "python3",
      "display_name": "Python 3"
    },
    "language_info": {
      "name": "python"
    },
    "accelerator": "GPU",
    "gpuClass": "premium"
  },
  "cells": [
    {
      "cell_type": "markdown",
      "metadata": {
        "id": "view-in-github",
        "colab_type": "text"
      },
      "source": [
        "<a href=\"https://colab.research.google.com/github/Leonaxi/Machine-Learning-in-Finance/blob/main/L11_Fashion_MNIST_with_low_level_JAX.ipynb\" target=\"_parent\"><img src=\"https://colab.research.google.com/assets/colab-badge.svg\" alt=\"Open In Colab\"/></a>"
      ]
    },
    {
      "cell_type": "code",
      "source": [
        "pip install -q optax dm-haiku"
      ],
      "metadata": {
        "colab": {
          "base_uri": "https://localhost:8080/"
        },
        "id": "NBaRgnJL8is9",
        "outputId": "c2b4597a-3ebc-4418-c419-fbd1e32ff142"
      },
      "execution_count": null,
      "outputs": [
        {
          "output_type": "stream",
          "name": "stdout",
          "text": [
            "\u001b[?25l\r\u001b[K     |██▎                             | 10 kB 15.4 MB/s eta 0:00:01\r\u001b[K     |████▌                           | 20 kB 5.5 MB/s eta 0:00:01\r\u001b[K     |██████▊                         | 30 kB 7.9 MB/s eta 0:00:01\r\u001b[K     |█████████                       | 40 kB 3.9 MB/s eta 0:00:01\r\u001b[K     |███████████▎                    | 51 kB 3.9 MB/s eta 0:00:01\r\u001b[K     |█████████████▌                  | 61 kB 4.6 MB/s eta 0:00:01\r\u001b[K     |███████████████▉                | 71 kB 5.0 MB/s eta 0:00:01\r\u001b[K     |██████████████████              | 81 kB 5.6 MB/s eta 0:00:01\r\u001b[K     |████████████████████▎           | 92 kB 5.8 MB/s eta 0:00:01\r\u001b[K     |██████████████████████▋         | 102 kB 4.7 MB/s eta 0:00:01\r\u001b[K     |████████████████████████▉       | 112 kB 4.7 MB/s eta 0:00:01\r\u001b[K     |███████████████████████████     | 122 kB 4.7 MB/s eta 0:00:01\r\u001b[K     |█████████████████████████████▍  | 133 kB 4.7 MB/s eta 0:00:01\r\u001b[K     |███████████████████████████████▋| 143 kB 4.7 MB/s eta 0:00:01\r\u001b[K     |████████████████████████████████| 145 kB 4.7 MB/s \n",
            "\u001b[K     |████████████████████████████████| 350 kB 52.6 MB/s \n",
            "\u001b[K     |████████████████████████████████| 85 kB 4.6 MB/s \n",
            "\u001b[?25h"
          ]
        }
      ]
    },
    {
      "cell_type": "code",
      "source": [
        "!wget https://www.dropbox.com/s/a5t4txdgkys6rob/X.npy?dl=0;\n",
        "!wget https://www.dropbox.com/s/jqmqptvtlg1lnf1/y.npy?dl=0;\n",
        "!mv X.npy?dl=0 X.npy; mv y.npy?dl=0 y.npy;"
      ],
      "metadata": {
        "colab": {
          "base_uri": "https://localhost:8080/"
        },
        "id": "Zbe6VAcK8rFc",
        "outputId": "3ed3b256-84a6-484a-e223-e65058416f41"
      },
      "execution_count": null,
      "outputs": [
        {
          "output_type": "stream",
          "name": "stdout",
          "text": [
            "--2022-10-25 17:06:53--  https://www.dropbox.com/s/a5t4txdgkys6rob/X.npy?dl=0\n",
            "Resolving www.dropbox.com (www.dropbox.com)... 162.125.66.18, 2620:100:6018:18::a27d:312\n",
            "Connecting to www.dropbox.com (www.dropbox.com)|162.125.66.18|:443... connected.\n",
            "HTTP request sent, awaiting response... 302 Found\n",
            "Location: /s/raw/a5t4txdgkys6rob/X.npy [following]\n",
            "--2022-10-25 17:06:54--  https://www.dropbox.com/s/raw/a5t4txdgkys6rob/X.npy\n",
            "Reusing existing connection to www.dropbox.com:443.\n",
            "HTTP request sent, awaiting response... 302 Found\n",
            "Location: https://ucbe81fa28b7564fcdedde6b2dd0.dl.dropboxusercontent.com/cd/0/inline/BvjJwlnAQ_nsSxxZOo8ctfrHYa2kPNkSy7FwV-HvIgbcBSGnarF3oRcEcGUcKW2IJ5nDrWhMHDcwflmNJKRZmiJ8EhgxQEFVWJz1bjtAVr9_E6CR_zwcdy-COHiqGABK5KEdMj8ApgnG3XmQruwUHwZHj2NiBx85nCERVPTcO4eAJw/file# [following]\n",
            "--2022-10-25 17:06:55--  https://ucbe81fa28b7564fcdedde6b2dd0.dl.dropboxusercontent.com/cd/0/inline/BvjJwlnAQ_nsSxxZOo8ctfrHYa2kPNkSy7FwV-HvIgbcBSGnarF3oRcEcGUcKW2IJ5nDrWhMHDcwflmNJKRZmiJ8EhgxQEFVWJz1bjtAVr9_E6CR_zwcdy-COHiqGABK5KEdMj8ApgnG3XmQruwUHwZHj2NiBx85nCERVPTcO4eAJw/file\n",
            "Resolving ucbe81fa28b7564fcdedde6b2dd0.dl.dropboxusercontent.com (ucbe81fa28b7564fcdedde6b2dd0.dl.dropboxusercontent.com)... 162.125.3.15, 2620:100:601b:15::a27d:80f\n",
            "Connecting to ucbe81fa28b7564fcdedde6b2dd0.dl.dropboxusercontent.com (ucbe81fa28b7564fcdedde6b2dd0.dl.dropboxusercontent.com)|162.125.3.15|:443... connected.\n",
            "HTTP request sent, awaiting response... 302 Found\n",
            "Location: /cd/0/inline2/BvhEtU-RgIjtXL5G7kAHuGYCEH3NNahzAl3J0_WqbD222x-B-k5-xyrJELZW05Q4u50cYnmiT0y6Av0pzMphnRAIcYenIcsV5MZKyaEvyC4arLyzfPPa_UnX3gbD8GnCBsP3U3nN0_MWQvb64nLLrjRWZix2gtu3ItJt6_uxaA6ghjaL52rJyUUhltPkeR8sljgLNhvKLIh3JYVUkUljq8K5FaGw2xGAM8v1QwNnhiCY_0xVSw8QnVAzRZBjxxhLoxel7WtIDYkSl1MHX6bqcJUNk_LDG09uVhKvaatFF6rH99ts3KXXabMhb-0YUp0MMyXq-C177vQgb6kuxzv60JfQb-_j-2aLq4F5XED08oni9Wk3uqkA9FSVpRxkCEPg2135fTy_qs1CC6cTfDstQmeF_kVY9tLwAlJXStNy8zBbeg/file [following]\n",
            "--2022-10-25 17:06:55--  https://ucbe81fa28b7564fcdedde6b2dd0.dl.dropboxusercontent.com/cd/0/inline2/BvhEtU-RgIjtXL5G7kAHuGYCEH3NNahzAl3J0_WqbD222x-B-k5-xyrJELZW05Q4u50cYnmiT0y6Av0pzMphnRAIcYenIcsV5MZKyaEvyC4arLyzfPPa_UnX3gbD8GnCBsP3U3nN0_MWQvb64nLLrjRWZix2gtu3ItJt6_uxaA6ghjaL52rJyUUhltPkeR8sljgLNhvKLIh3JYVUkUljq8K5FaGw2xGAM8v1QwNnhiCY_0xVSw8QnVAzRZBjxxhLoxel7WtIDYkSl1MHX6bqcJUNk_LDG09uVhKvaatFF6rH99ts3KXXabMhb-0YUp0MMyXq-C177vQgb6kuxzv60JfQb-_j-2aLq4F5XED08oni9Wk3uqkA9FSVpRxkCEPg2135fTy_qs1CC6cTfDstQmeF_kVY9tLwAlJXStNy8zBbeg/file\n",
            "Reusing existing connection to ucbe81fa28b7564fcdedde6b2dd0.dl.dropboxusercontent.com:443.\n",
            "HTTP request sent, awaiting response... 200 OK\n",
            "Length: 376320128 (359M) [application/octet-stream]\n",
            "Saving to: ‘X.npy?dl=0’\n",
            "\n",
            "X.npy?dl=0          100%[===================>] 358.89M   124MB/s    in 2.9s    \n",
            "\n",
            "2022-10-25 17:06:59 (124 MB/s) - ‘X.npy?dl=0’ saved [376320128/376320128]\n",
            "\n",
            "--2022-10-25 17:06:59--  https://www.dropbox.com/s/jqmqptvtlg1lnf1/y.npy?dl=0\n",
            "Resolving www.dropbox.com (www.dropbox.com)... 162.125.66.18, 2620:100:6018:18::a27d:312\n",
            "Connecting to www.dropbox.com (www.dropbox.com)|162.125.66.18|:443... connected.\n",
            "HTTP request sent, awaiting response... 302 Found\n",
            "Location: /s/raw/jqmqptvtlg1lnf1/y.npy [following]\n",
            "--2022-10-25 17:07:00--  https://www.dropbox.com/s/raw/jqmqptvtlg1lnf1/y.npy\n",
            "Reusing existing connection to www.dropbox.com:443.\n",
            "HTTP request sent, awaiting response... 302 Found\n",
            "Location: https://uc28bf9b6d3125e300883a927a26.dl.dropboxusercontent.com/cd/0/inline/BvjaNbsPd19ZEsvbEUX8IbzqR9a0aqGaybkUARXc0NSfm_SO912tVIpD9WiR8EyahDBBcfG50GUxGiC0k7y2pwJWTTdTneguGbn3so6hzHXoJZFTbhO-vZXCn-o0W0PGoTRXFPki84D5cvB03bPwuOTrAsalftGCftZJa_BfLKA86A/file# [following]\n",
            "--2022-10-25 17:07:00--  https://uc28bf9b6d3125e300883a927a26.dl.dropboxusercontent.com/cd/0/inline/BvjaNbsPd19ZEsvbEUX8IbzqR9a0aqGaybkUARXc0NSfm_SO912tVIpD9WiR8EyahDBBcfG50GUxGiC0k7y2pwJWTTdTneguGbn3so6hzHXoJZFTbhO-vZXCn-o0W0PGoTRXFPki84D5cvB03bPwuOTrAsalftGCftZJa_BfLKA86A/file\n",
            "Resolving uc28bf9b6d3125e300883a927a26.dl.dropboxusercontent.com (uc28bf9b6d3125e300883a927a26.dl.dropboxusercontent.com)... 162.125.66.15, 2620:100:6020:15::a27d:400f\n",
            "Connecting to uc28bf9b6d3125e300883a927a26.dl.dropboxusercontent.com (uc28bf9b6d3125e300883a927a26.dl.dropboxusercontent.com)|162.125.66.15|:443... connected.\n",
            "HTTP request sent, awaiting response... 200 OK\n",
            "Length: 4800128 (4.6M) [text/plain]\n",
            "Saving to: ‘y.npy?dl=0’\n",
            "\n",
            "y.npy?dl=0          100%[===================>]   4.58M  4.78MB/s    in 1.0s    \n",
            "\n",
            "2022-10-25 17:07:02 (4.78 MB/s) - ‘y.npy?dl=0’ saved [4800128/4800128]\n",
            "\n"
          ]
        }
      ]
    },
    {
      "cell_type": "code",
      "source": [
        "import jax.numpy as jnp\n",
        "import matplotlib.pyplot as plt\n",
        "import optax\n",
        "import jax\n",
        "import haiku as hk\n",
        "rng = jax.random.PRNGKey(0)\n",
        "\n",
        "X = jnp.load('X.npy')\n",
        "y = jnp.load('y.npy')\n",
        "\n",
        "class_names = ['T-shirt/top',  # 0\n",
        "               'Trouser',      # 1\n",
        "               'Pullover',     # 2\n",
        "               'Dress',        # 3\n",
        "               'Coat',         # 4\n",
        "               'Sandal',       # 5\n",
        "               'Shirt',        # 6\n",
        "               'Sneaker',      # 7\n",
        "               'Bag',          # 8\n",
        "               'Ankle boot']   # 9\n",
        "\n",
        "plt.matshow(X[0].reshape(28, 28))\n",
        "print(y[0])"
      ],
      "metadata": {
        "colab": {
          "base_uri": "https://localhost:8080/",
          "height": 293
        },
        "id": "kM1u16Nt8jvk",
        "outputId": "9082e9e3-17df-4ebf-9937-5953f556589b"
      },
      "execution_count": null,
      "outputs": [
        {
          "output_type": "stream",
          "name": "stdout",
          "text": [
            "[0. 0. 0. 0. 0. 0. 0. 0. 0. 1.]\n"
          ]
        },
        {
          "output_type": "display_data",
          "data": {
            "text/plain": [
              "<Figure size 288x288 with 1 Axes>"
            ],
            "image/png": "[encoded data removed]"
          },
          "metadata": {
            "needs_background": "light"
          }
        }
      ]
    },
    {
      "cell_type": "code",
      "source": [
        "def model(X):\n",
        "  X = hk.Linear(128)(X)\n",
        "  X = jax.nn.relu(X)\n",
        "\n",
        "  X = hk.Linear(10)(X)\n",
        "  X = jax.nn.softmax(X)\n",
        "  return X\n",
        "\n",
        "\n",
        "init, model = hk.without_apply_rng(hk.transform(model))\n",
        "Θ = init(rng, X[0])\n",
        "\n",
        "lr = 1e-3\n",
        "optimizer = optax.adam\n",
        "opt_state = optimizer(lr).init(Θ)\n",
        "\n",
        "\n",
        "def L(Θ, X, y):\n",
        "  from jax.scipy.special import xlogy\n",
        "  prob = model(Θ, X)\n",
        "  return -(xlogy(y, prob)).sum(-1).mean()\n",
        "\n",
        "\n",
        "@jax.jit\n",
        "def update(Θ, opt_state):\n",
        "  grads = jax.grad(L)(Θ, X, y)\n",
        "  updates, opt_state = optimizer(lr).update(grads, opt_state)\n",
        "  Θ = optax.apply_updates(Θ, updates)\n",
        "  return Θ, opt_state\n",
        "\n",
        "\n",
        "@jax.jit\n",
        "def evaluation(Θ):\n",
        "    P = model(Θ, X)\n",
        "    prediction = jnp.argmax(P, axis=1)\n",
        "    y_flat = jnp.argmax(y, axis=1)\n",
        "    return (prediction == y_flat).mean()\n"
      ],
      "metadata": {
        "id": "yLvP5TiY8xwK"
      },
      "execution_count": null,
      "outputs": []
    },
    {
      "cell_type": "code",
      "source": [
        "for iteration in range(5000):\n",
        "    Θ, opt_state = update(Θ, opt_state)\n",
        "\n",
        "print(evaluation(Θ))\n",
        "# after 5000 iteration, this nnet would able to learn and achieve 98.5% accuracy in training set. but training set is not what you want"
      ],
      "metadata": {
        "colab": {
          "base_uri": "https://localhost:8080/"
        },
        "id": "n5zmYzA3809p",
        "outputId": "49454cdc-f7ed-4c10-f0e1-d557305260a9"
      },
      "execution_count": null,
      "outputs": [
        {
          "output_type": "stream",
          "name": "stdout",
          "text": [
            "0.9853167\n"
          ]
        }
      ]
    },
    {
      "cell_type": "code",
      "source": [],
      "metadata": {
        "id": "66uCwoUUHexb"
      },
      "execution_count": null,
      "outputs": []
    }
  ]
}