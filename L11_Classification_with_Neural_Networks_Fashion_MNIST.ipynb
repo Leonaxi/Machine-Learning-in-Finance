{
  "nbformat": 4,
  "nbformat_minor": 0,
  "metadata": {
    "colab": {
      "provenance": [],
      "collapsed_sections": [],
      "include_colab_link": true
    },
    "kernelspec": {
      "display_name": "Python 3",
      "name": "python3"
    },
    "accelerator": "GPU",
    "gpuClass": "premium"
  },
  "cells": [
    {
      "cell_type": "markdown",
      "metadata": {
        "id": "view-in-github",
        "colab_type": "text"
      },
      "source": [
        "<a href=\"https://colab.research.google.com/github/Leonaxi/Machine-Learning-in-Finance/blob/main/L11_Classification_with_Neural_Networks_Fashion_MNIST.ipynb\" target=\"_parent\"><img src=\"https://colab.research.google.com/assets/colab-badge.svg\" alt=\"Open In Colab\"/></a>"
      ]
    },
    {
      "cell_type": "code",
      "metadata": {
        "id": "L1zMJeCkPUKq"
      },
      "source": [
        "%%capture\n",
        "# Download data\n",
        "!wget https://www.dropbox.com/s/a5t4txdgkys6rob/X.npy?dl=0;\n",
        "!wget https://www.dropbox.com/s/jqmqptvtlg1lnf1/y.npy?dl=0;\n",
        "!mv X.npy?dl=0 X.npy; mv y.npy?dl=0 y.npy;"
      ],
      "execution_count": null,
      "outputs": []
    },
    {
      "cell_type": "code",
      "metadata": {
        "id": "MOAqkRWl7lHv"
      },
      "source": [
        "from tensorflow import keras\n",
        "import numpy as np\n",
        "import matplotlib.pyplot as plt\n",
        "from tensorflow import keras\n",
        "X = np.load('X.npy')\n",
        "y = np.load('y.npy')\n"
      ],
      "execution_count": null,
      "outputs": []
    },
    {
      "cell_type": "code",
      "metadata": {
        "colab": {
          "base_uri": "https://localhost:8080/",
          "height": 293
        },
        "id": "iErarJTdki3u",
        "outputId": "b8331eee-e48e-4bbd-8be7-7a12db1aeedb"
      },
      "source": [
        "plt.matshow(X[0].reshape(28, 28))"
      ],
      "execution_count": null,
      "outputs": [
        {
          "output_type": "execute_result",
          "data": {
            "text/plain": [
              "<matplotlib.image.AxesImage at 0x7fedec728510>"
            ]
          },
          "metadata": {},
          "execution_count": 3
        },
        {
          "output_type": "display_data",
          "data": {
            "text/plain": [
              "<Figure size 288x288 with 1 Axes>"
            ],
            "image/png": "[encoded data removed]"
          },
          "metadata": {
            "needs_background": "light"
          }
        }
      ]
    },
    {
      "cell_type": "code",
      "metadata": {
        "colab": {
          "base_uri": "https://localhost:8080/",
          "height": 293
        },
        "id": "YXjksB-jPbVp",
        "outputId": "6002db23-00ef-4ed9-f97b-942e765b2f81"
      },
      "source": [
        "from tensorflow import keras\n",
        "import numpy as np\n",
        "import matplotlib.pyplot as plt\n",
        "from tensorflow import keras\n",
        "\n",
        "X = np.load('X.npy')\n",
        "y = np.load('y.npy')\n",
        "\n",
        "class_names = ['T-shirt/top',  # 0\n",
        "               'Trouser',      # 1\n",
        "               'Pullover',     # 2\n",
        "               'Dress',        # 3\n",
        "               'Coat',         # 4\n",
        "               'Sandal',       # 5\n",
        "               'Shirt',        # 6\n",
        "               'Sneaker',      # 7\n",
        "               'Bag',          # 8\n",
        "               'Ankle boot']   # 9\n",
        "\n",
        "plt.matshow(X[100].reshape(28, 28))\n",
        "N = len(y)\n"
      ],
      "execution_count": null,
      "outputs": [
        {
          "output_type": "stream",
          "name": "stdout",
          "text": [
            "[0. 0. 0. 0. 0. 0. 0. 0. 1. 0.]\n"
          ]
        },
        {
          "output_type": "display_data",
          "data": {
            "text/plain": [
              "<Figure size 288x288 with 1 Axes>"
            ],
            "image/png": "[encoded data removed]"
          },
          "metadata": {
            "needs_background": "light"
          }
        }
      ]
    },
    {
      "cell_type": "code",
      "metadata": {
        "id": "VjEln-6KXyXn"
      },
      "source": [
        "N = len(y)"
      ],
      "execution_count": null,
      "outputs": []
    },
    {
      "cell_type": "code",
      "metadata": {
        "id": "ccg7kZQ7P9XP"
      },
      "source": [
        "model = keras.Sequential([\n",
        "    keras.layers.Dense(64, 'relu'),\n",
        "    keras.layers.Dense(10, 'softmax')\n",
        "])\n",
        "\n",
        "model.compile(loss='categorical_crossentropy', optimizer=keras.optimizers.Adam(1e-3))\n",
        "model.fit(X, y, epochs=1000, batch_size=N, verbose=False)\n"
      ],
      "execution_count": null,
      "outputs": []
    },
    {
      "cell_type": "code",
      "metadata": {
        "id": "Aq1PlJ3CQMoS",
        "outputId": "0730e6b7-7628-43cc-ceda-52a32fd4eabf",
        "colab": {
          "base_uri": "https://localhost:8080/"
        }
      },
      "source": [
        "# Evaluation\n",
        "prob = model.predict(X)\n",
        "predicted_labels = np.argmax(prob, axis=1)\n",
        "labels = np.argmax(y, axis=1)\n",
        "accuracy = (predicted_labels == labels).mean()\n",
        "print(accuracy)"
      ],
      "execution_count": null,
      "outputs": [
        {
          "output_type": "stream",
          "name": "stdout",
          "text": [
            "1875/1875 [==============================] - 2s 1ms/step\n",
            "0.9369166666666666\n"
          ]
        }
      ]
    },
    {
      "cell_type": "code",
      "metadata": {
        "id": "VZoPzdXmQTtb"
      },
      "source": [],
      "execution_count": null,
      "outputs": []
    }
  ]
}