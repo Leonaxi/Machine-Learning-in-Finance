{
  "nbformat": 4,
  "nbformat_minor": 0,
  "metadata": {
    "colab": {
      "provenance": [],
      "collapsed_sections": [],
      "include_colab_link": true
    },
    "kernelspec": {
      "name": "python3",
      "display_name": "Python 3"
    },
    "accelerator": "GPU",
    "gpuClass": "standard"
  },
  "cells": [
    {
      "cell_type": "markdown",
      "metadata": {
        "id": "view-in-github",
        "colab_type": "text"
      },
      "source": [
        "<a href=\"https://colab.research.google.com/github/Leonaxi/Machine-Learning-in-Finance/blob/main/553_project_2_lsmc_with_jax.ipynb\" target=\"_parent\"><img src=\"https://colab.research.google.com/assets/colab-badge.svg\" alt=\"Open In Colab\"/></a>"
      ]
    },
    {
      "cell_type": "markdown",
      "source": [
        "Due date: October 21 2022 "
      ],
      "metadata": {
        "id": "Umss_PvMjmPG"
      }
    },
    {
      "cell_type": "markdown",
      "source": [
        "# Description\n",
        "  In this problem we will use apply the LSMC method to price American put options. Specifically, we will replicate the result in the first row, 6th column of Table 1 in [Longstaff and Schwartz 2001](https://www.anderson.ucla.edu/documents/areas/fac/finance/least_squares.pdf)\n",
        "\n",
        "  \n",
        "\n",
        "*  Read the introduction of the [paper](https://www.anderson.ucla.edu/documents/areas/fac/finance/least_squares.pdf).\n",
        "*   We will price an american put option as described in page 126 of the aforementioned article. Read paragraphs 1 and 2 of page 126\n",
        "* As we saw in class, one of the ways we can use linear regression to fit nonlinear functions is to use polynomial features. A common choice in many applications is to use the so called ``Chebyshev polynomials''. Chebyshev polynomials are defined recursively by:\n",
        "\n",
        "\\begin{equation}\n",
        "T_0(x) = 1\\\\\n",
        "T_1(x) = x\\\\\n",
        "T_{n + 1}(x)  =  2 x T_n(x) - T_{n - 1}(x)\\\\\n",
        "\\end{equation}\n"
      ],
      "metadata": {
        "id": "UNMPZrw6ucMH"
      }
    },
    {
      "cell_type": "markdown",
      "source": [
        "# Part 1\n",
        "The code below simulates the evolution of a stock price that follows a geometric brownian motion. Write a JAX version of that code. You are not allowed to use functions from other libraries. For this part, the \"simulate\"\n",
        "function does not need to be jit compiled. As we will see, jit compiling a funciton with for loops may introduce some complications\n",
        " "
      ],
      "metadata": {
        "id": "qszv8niMdzJK"
      }
    },
    {
      "cell_type": "code",
      "source": [
        "# numpy version: dont run if want to apply jax version\n",
        "#import numpy as np\n",
        "\n",
        "# Data\n",
        "σ = 0.04\n",
        "r = 0.01\n",
        "K = 35\n",
        "\n",
        "# Design choice\n",
        "dt = 0.01\n",
        "m = 100\n",
        "\n",
        "# 1. def simulate function: \n",
        "# 1) set random seed; \n",
        "def simulate():\n",
        "  np.random.seed(0)\n",
        "\n",
        "# 2) define stock price change function;\n",
        "  def step(S):\n",
        "    dZ = np.random.normal(size=S.size) * np.sqrt(dt)\n",
        "    dS = r * S  * dt + σ  * S  * dZ\n",
        "    S = S + dS\n",
        "    return S  # return后终止进程，退出函数并且返回值，返回到function中（不会打印出来）需要intend, 在函数里面，之后可以调用函数；若这里改成print,则没有返回值，（但会打印出来结果）之后不能调用函数\n",
        "\n",
        "#3) create empty list S, initialized S to S0\n",
        "  S0 = np.ones(20000)\n",
        "  S = S0\n",
        "  S_list = [] #创建一个空的list\n",
        "\n",
        "# 4)literate to add Sn into empty list S\n",
        "  for t in range(m):\n",
        "    S = step(S)\n",
        "    S_list.append(S) #空的list一步一步加入S= step(S, subkeys[i])\n",
        "    #print(S_list)\n",
        "  \n",
        "# 5) ？？\n",
        "  S_array = np.stack(S_list)\n",
        "  return S_array # return for simulate function，这个return是在similate function里面的"
      ],
      "metadata": {
        "id": "boBMvoKeZMlh"
      },
      "execution_count": null,
      "outputs": []
    },
    {
      "cell_type": "code",
      "source": [
        "# jax version\n",
        "import jax\n",
        "import jax.numpy as jnp\n",
        "from jax import random\n",
        "from jax import lax\n",
        "\n",
        "# Data\n",
        "σ = 0.04\n",
        "r = 0.01\n",
        "K = 35\n",
        "\n",
        "# Design choice\n",
        "dt = 0.01\n",
        "m = 100\n",
        "\n",
        "@jax.jit\n",
        "def simulate():\n",
        "  seed = 100\n",
        "  key = jax.random.PRNGKey(seed)\n",
        "  subkeys = random.split(key, m) ##### # of variables in random seed = subkeys\n",
        "\n",
        "\n",
        "  def step(S,subkey):\n",
        "    dZ = jax.random.normal(subkey, (S.size,)) * jnp.sqrt(dt) # S, subkey都是independent var: jax.random.normal(key=keyarray, shape)\n",
        "    dS = r * S  * dt + σ  * S  * dZ\n",
        "    S = S + dS\n",
        "    return S # return S 这个function，等于上面一系列跑下来\n",
        "\n",
        "\n",
        "  S0 = jnp.ones(20000)\n",
        "  S = S0\n",
        "  S_list = [] #创建一个空的list\n",
        "\n",
        "  for i in range(m):\n",
        "    subkey = subkeys[i]\n",
        "    S = step(S,subkey)\n",
        "    S_list.append(S) #空的list一步一步加入S= step(S, subkeys[i])\n",
        "\n",
        "  \n",
        "  S_array = jnp.stack(S_list)\n",
        "  return S_array\n",
        "\n",
        "\n",
        "print(simulate())"
      ],
      "metadata": {
        "colab": {
          "base_uri": "https://localhost:8080/"
        },
        "id": "esW-k09mDWrF",
        "outputId": "487ce7d1-dddd-4fca-e0c4-b1e14a43a579"
      },
      "execution_count": null,
      "outputs": [
        {
          "output_type": "stream",
          "name": "stdout",
          "text": [
            "[[1.0017724  1.0004742  1.0034137  ... 1.0005076  1.0015863  1.0125836 ]\n",
            " [1.0007677  0.99627924 1.0043089  ... 1.0027115  1.0032715  1.0199088 ]\n",
            " [0.99718064 1.005305   1.0090697  ... 1.0071484  1.0027707  1.0259789 ]\n",
            " ...\n",
            " [1.0061305  1.0749997  1.0193487  ... 0.98685    0.9719698  1.0534912 ]\n",
            " [1.003955   1.0690762  1.0210334  ... 0.9911981  0.97647256 1.0592455 ]\n",
            " [1.0042301  1.0759467  1.0205411  ... 0.98978984 0.9772807  1.0638406 ]]\n"
          ]
        }
      ]
    },
    {
      "cell_type": "markdown",
      "source": [
        "# Part 2\n",
        "Write a jit compiled version of the simulate function. You may want to check out the function jax.lax.scan.\n"
      ],
      "metadata": {
        "id": "-sYIUZ1QfF-i"
      }
    },
    {
      "cell_type": "code",
      "source": [
        "import jax\n",
        "import jax.numpy as jnp\n",
        "from jax import random\n",
        "from jax import lax\n",
        "\n",
        "# Data\n",
        "σ = 0.04\n",
        "r = 0.01\n",
        "K = 35\n",
        "\n",
        "# Design choice\n",
        "dt = 0.01\n",
        "m = 100\n",
        "\n",
        "\n",
        "@jax.jit  #It's called Just-In-Time (JIT) compilation and it's basically just caching some code that you use often so that it runs faster.\n",
        "def simulate():\n",
        "    seed = 100\n",
        "    key = jax.random.PRNGKey(seed)\n",
        "    subkeys = random.split(key, m)  #####\n",
        "\n",
        "    def step(S, subkey):\n",
        "        dZ = jax.random.normal(subkey, (S.size,)) * jnp.sqrt(dt)\n",
        "        dS = r * S * dt + σ * S * dZ\n",
        "        S = S + dS\n",
        "        return S\n",
        "\n",
        "    S0 = jnp.ones(20000)\n",
        "    \n",
        "    def f(carry, x):\n",
        "        return step(carry, x), step(carry, x)\n",
        "\n",
        "\n",
        "    final, result = jax.lax.scan(f, S0, subkeys)\n",
        "    return result\n",
        "\n",
        "simulate()\n"
      ],
      "metadata": {
        "colab": {
          "base_uri": "https://localhost:8080/"
        },
        "id": "o7WgjU_e0MA3",
        "outputId": "39fb57e1-4594-4cdc-c98d-9498adb284c8"
      },
      "execution_count": null,
      "outputs": [
        {
          "output_type": "execute_result",
          "data": {
            "text/plain": [
              "DeviceArray([[1.0017724 , 1.0004742 , 1.0034137 , ..., 1.0005075 ,\n",
              "              1.0015863 , 1.0125835 ],\n",
              "             [1.0007677 , 0.99627924, 1.0043089 , ..., 1.0027114 ,\n",
              "              1.0032715 , 1.0199087 ],\n",
              "             [0.99718064, 1.005305  , 1.0090697 , ..., 1.0071483 ,\n",
              "              1.0027707 , 1.0259788 ],\n",
              "             ...,\n",
              "             [1.0061305 , 1.0749997 , 1.0193487 , ..., 0.9868499 ,\n",
              "              0.9719698 , 1.0534912 ],\n",
              "             [1.003955  , 1.0690762 , 1.0210334 , ..., 0.991198  ,\n",
              "              0.97647256, 1.0592455 ],\n",
              "             [1.0042301 , 1.0759467 , 1.0205411 , ..., 0.9897897 ,\n",
              "              0.9772807 , 1.0638406 ]], dtype=float32)"
            ]
          },
          "metadata": {},
          "execution_count": 159
        }
      ]
    },
    {
      "cell_type": "markdown",
      "source": [
        "# Part 3\n",
        "The code below computes the price of an American Put option using Least Squares Monte Carlo (LSMC). Write a JAX version of that code. You are not allowed to use functions from other libraries. Your \"compute_price\" function must be jit compiled."
      ],
      "metadata": {
        "id": "YdCFrHUafwBh"
      }
    },
    {
      "cell_type": "code",
      "source": [
        "# numpy version\n",
        "# import numpy as np\n",
        "\n",
        "Spot = 36   # stock price\n",
        "σ = 0.2     # stock volatility\n",
        "K = 40      # strike price\n",
        "r = 0.06    # risk free rate\n",
        "n = 100000  # Number of simualted paths\n",
        "m = 50      # number of exercise dates\n",
        "T = 1       # maturity\n",
        "order = 12   # Polynmial order\n",
        "Δt = T / m  # interval between two exercise dates\n",
        "\n",
        "\n",
        "# Construct polynomial features of order up to k using the\n",
        "# recursive formulation\n",
        "def chebyshev_basis(x, k):\n",
        "    B = [np.ones(len(x)), x]\n",
        "    for n in range(2, k):\n",
        "        Bn = 2 * x * B[n - 1] - B[n - 2]\n",
        "        B.append(Bn)\n",
        "\n",
        "    return np.column_stack(B)\n",
        "\n",
        "\n",
        "# scales x to be in the interval(-1, 1)\n",
        "def scale(x):\n",
        "    xmin = x.min()\n",
        "    xmax = x.max()\n",
        "    a = 2 / (xmax - xmin)\n",
        "    b = 1 - a * xmax\n",
        "    return a * x + b\n",
        "\n",
        "\n",
        "# simulates one step of the stock price evolution\n",
        "def step(S):\n",
        "    dB = np.sqrt(Δt) * np.random.normal(size=S.size)\n",
        "    S_tp1 = S + r * S * Δt + σ * S * dB\n",
        "    return S_tp1\n",
        "\n",
        "\n",
        "def payoff_put(S):\n",
        "    return np.maximum(K - S, 0.)\n",
        "\n",
        "\n",
        "# LSMC algorithm\n",
        "def compute_price():\n",
        "    np.random.seed(0)\n",
        "    S0 = Spot * np.ones(n)\n",
        "    S = [S0]\n",
        "\n",
        "    for t in range(m):\n",
        "        S_tp1 = step(S[t])\n",
        "        S.append(S_tp1)\n",
        "\n",
        "    discount = np.exp(-r * Δt)\n",
        "\n",
        "    # Very last date\n",
        "    value_if_exercise = payoff_put(S[-1])\n",
        "    discounted_future_cashflows = value_if_exercise * discount\n",
        "\n",
        "    # Proceed recursively\n",
        "    for i in range(m - 1):\n",
        "        X = chebyshev_basis(scale(S[-2 - i]), order)\n",
        "        Y = discounted_future_cashflows\n",
        "\n",
        "        Θ = np.linalg.solve(X.T @ X, X.T @ Y)\n",
        "        value_if_wait = X @ Θ\n",
        "        value_if_exercise = payoff_put(S[-2 - i])\n",
        "        exercise = value_if_exercise >= value_if_wait\n",
        "        discounted_future_cashflows = discount * np.where(\n",
        "            exercise,\n",
        "            value_if_exercise,\n",
        "            discounted_future_cashflows)\n",
        "\n",
        "    return discounted_future_cashflows.mean()\n",
        "\n",
        "\n",
        "print(compute_price())\n",
        "# test = compute_price(order, Spot, σ, K, r)\n"
      ],
      "metadata": {
        "id": "7Pe0tmOXZ9-A"
      },
      "execution_count": null,
      "outputs": []
    },
    {
      "cell_type": "code",
      "source": [
        "Spot = 36   # stock price\n",
        "σ = 0.2     # stock volatility\n",
        "K = 40      # strike price\n",
        "r = 0.06    # risk free rate\n",
        "n = 100000  # Number of simualted paths\n",
        "m = 50      # number of exercise dates\n",
        "T = 1       # maturity\n",
        "order = 12   # Polynmial order\n",
        "Δt = T / m  # interval between two exercise dates\n",
        "\n",
        "\n",
        "# Construct polynomial features of order up to k using the\n",
        "# recursive formulation\n",
        "def chebyshev_basis(x, k):\n",
        "    B = [jnp.ones(len(x)), x]\n",
        "    for n in range(2, k):\n",
        "        Bn = 2 * x * B[n - 1] - B[n - 2]\n",
        "        B.append(Bn)\n",
        "\n",
        "    return jnp.column_stack(B)\n",
        "\n",
        "\n",
        "# scales x to be in the interval(-1, 1)\n",
        "def scale(x):\n",
        "    xmin = x.min()\n",
        "    xmax = x.max()\n",
        "    a = 2 / (xmax - xmin)\n",
        "    b = 1 - a * xmax\n",
        "    return a * x + b\n",
        "\n",
        "\n",
        "# simulates one step of the stock price evolution\n",
        "def step(S, subkey):\n",
        "    dB = jnp.sqrt(Δt) * jax.random.normal(subkey, (S.size,))\n",
        "    S_tp1 = S + r * S * Δt + σ * S * dB\n",
        "    return S_tp1\n",
        "\n",
        "\n",
        "def payoff_put(S):\n",
        "    return jnp.maximum(K - S, 0.)\n",
        "\n",
        "\n",
        "# LSMC algorithm\n",
        "@jax.jit\n",
        "def compute_price():\n",
        "    seed = 100\n",
        "    key = jax.random.PRNGKey(seed)\n",
        "    subkeys = random.split(key, m)\n",
        "\n",
        "    S0 = Spot * np.ones(n)\n",
        "    S = [S0]\n",
        "\n",
        "    def f(carry, x):\n",
        "       return step(carry, x), step(carry, x)\n",
        "\n",
        "    final, result = jax.lax.scan(f, S0, subkeys)\n",
        "    #return result\n",
        "    S = jnp.append(S0,result)\n",
        "    S = S.reshape(m+1,n)\n",
        "    \n",
        "    \n",
        "    discount = jnp.exp(-r * Δt)\n",
        "\n",
        "    # Very last date\n",
        "    value_if_exercise = payoff_put(S[-1])  # 最後一期的是否執行的現金流量\n",
        "    discounted_future_cashflows = value_if_exercise * discount\n",
        "\n",
        "    # Proceed recursively\n",
        "    for i in range(m - 1):\n",
        "        X = chebyshev_basis(scale(S[-2 - i]), order) # 12次方,S[-2-i]為從倒數第二期的股價開始做回歸\n",
        "        Y = discounted_future_cashflows\n",
        "\n",
        "        Θ = jnp.linalg.solve(X.T @ X, X.T @ Y)\n",
        "        value_if_wait = X @ Θ # 得到P(S)\n",
        "        value_if_exercise = payoff_put(S[-2 - i]) # 此價格為不exercise的價格\n",
        "        exercise = value_if_exercise >= value_if_wait # 若於當期執行\n",
        "        discounted_future_cashflows = discount * jnp.where(\n",
        "            exercise,\n",
        "            value_if_exercise, \n",
        "            discounted_future_cashflows)  # true, 表示有執行\n",
        "\n",
        "    return discounted_future_cashflows.mean()\n",
        "\n",
        "\n",
        "\n",
        "print(compute_price())\n",
        "# test = compute_price(order, Spot, σ, K, r)"
      ],
      "metadata": {
        "colab": {
          "base_uri": "https://localhost:8080/"
        },
        "id": "R4otelUGOwwM",
        "outputId": "960f435c-a129-447c-b499-50de39f16d89"
      },
      "execution_count": null,
      "outputs": [
        {
          "output_type": "stream",
          "name": "stdout",
          "text": [
            "4.4752336\n"
          ]
        }
      ]
    }
  ]
}